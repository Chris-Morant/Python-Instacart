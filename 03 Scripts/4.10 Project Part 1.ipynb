{
 "cells": [
  {
   "cell_type": "markdown",
   "id": "e64b8046",
   "metadata": {},
   "source": [
    "# Coding Etiquitte and Excel Reporting"
   ]
  },
  {
   "cell_type": "markdown",
   "id": "420fa621",
   "metadata": {},
   "source": [
    "### List of Contents\n",
    "#### 1. Data Load \n",
    "#### 2. Data Consistency\n",
    "#### 3. Addressing Security Concerns\n",
    "#### 4. Region Segmentation and Customer Behaviour\n",
    "#### 5. Low-activity Customers"
   ]
  },
  {
   "cell_type": "code",
   "execution_count": 1,
   "id": "d972f3a9",
   "metadata": {},
   "outputs": [],
   "source": [
    "# import libraries\n",
    "import pandas as pd\n",
    "import numpy as np\n",
    "import os\n",
    "import matplotlib.pyplot as plt\n",
    "import seaborn as sns\n",
    "import scipy"
   ]
  },
  {
   "cell_type": "markdown",
   "id": "0d3dc06c",
   "metadata": {},
   "source": [
    "#### 1. Data Load"
   ]
  },
  {
   "cell_type": "code",
   "execution_count": 2,
   "id": "b6fee9e2",
   "metadata": {},
   "outputs": [],
   "source": [
    "path = r'C:\\Users\\chris\\OneDrive\\Documents\\11-23-2023 Instacart Basket Analysis'"
   ]
  },
  {
   "cell_type": "code",
   "execution_count": 3,
   "id": "d1079f58",
   "metadata": {},
   "outputs": [],
   "source": [
    "df_instacart = pd.read_pickle(os.path.join(path,'02 Data', 'Prepared Data', 'instacart_data.pkl'))"
   ]
  },
  {
   "cell_type": "markdown",
   "id": "b3496232",
   "metadata": {},
   "source": [
    "#### 2. Data Consistency"
   ]
  },
  {
   "cell_type": "code",
   "execution_count": 4,
   "id": "c54b0270",
   "metadata": {},
   "outputs": [
    {
     "data": {
      "text/html": [
       "<div>\n",
       "<style scoped>\n",
       "    .dataframe tbody tr th:only-of-type {\n",
       "        vertical-align: middle;\n",
       "    }\n",
       "\n",
       "    .dataframe tbody tr th {\n",
       "        vertical-align: top;\n",
       "    }\n",
       "\n",
       "    .dataframe thead th {\n",
       "        text-align: right;\n",
       "    }\n",
       "</style>\n",
       "<table border=\"1\" class=\"dataframe\">\n",
       "  <thead>\n",
       "    <tr style=\"text-align: right;\">\n",
       "      <th></th>\n",
       "      <th>order_id</th>\n",
       "      <th>user_id</th>\n",
       "      <th>order_number</th>\n",
       "      <th>orders_day_of_week</th>\n",
       "      <th>order_hour_of_day</th>\n",
       "      <th>days_since_last_order</th>\n",
       "      <th>product_id</th>\n",
       "      <th>add_to_cart_order</th>\n",
       "      <th>reordered</th>\n",
       "      <th>product_name</th>\n",
       "      <th>...</th>\n",
       "      <th>order_frequency_flag</th>\n",
       "      <th>first_name</th>\n",
       "      <th>surname</th>\n",
       "      <th>gender</th>\n",
       "      <th>state</th>\n",
       "      <th>age</th>\n",
       "      <th>date_joined</th>\n",
       "      <th>number_of_dependants</th>\n",
       "      <th>family_status</th>\n",
       "      <th>income</th>\n",
       "    </tr>\n",
       "  </thead>\n",
       "  <tbody>\n",
       "    <tr>\n",
       "      <th>0</th>\n",
       "      <td>2539329</td>\n",
       "      <td>1</td>\n",
       "      <td>1</td>\n",
       "      <td>2</td>\n",
       "      <td>8</td>\n",
       "      <td>0.0</td>\n",
       "      <td>196</td>\n",
       "      <td>1</td>\n",
       "      <td>0</td>\n",
       "      <td>Soda</td>\n",
       "      <td>...</td>\n",
       "      <td>Regular customer</td>\n",
       "      <td>Linda</td>\n",
       "      <td>Nguyen</td>\n",
       "      <td>Female</td>\n",
       "      <td>Alabama</td>\n",
       "      <td>31</td>\n",
       "      <td>2/17/2019</td>\n",
       "      <td>3</td>\n",
       "      <td>married</td>\n",
       "      <td>40423</td>\n",
       "    </tr>\n",
       "    <tr>\n",
       "      <th>1</th>\n",
       "      <td>2398795</td>\n",
       "      <td>1</td>\n",
       "      <td>2</td>\n",
       "      <td>3</td>\n",
       "      <td>7</td>\n",
       "      <td>15.0</td>\n",
       "      <td>196</td>\n",
       "      <td>1</td>\n",
       "      <td>1</td>\n",
       "      <td>Soda</td>\n",
       "      <td>...</td>\n",
       "      <td>Regular customer</td>\n",
       "      <td>Linda</td>\n",
       "      <td>Nguyen</td>\n",
       "      <td>Female</td>\n",
       "      <td>Alabama</td>\n",
       "      <td>31</td>\n",
       "      <td>2/17/2019</td>\n",
       "      <td>3</td>\n",
       "      <td>married</td>\n",
       "      <td>40423</td>\n",
       "    </tr>\n",
       "    <tr>\n",
       "      <th>2</th>\n",
       "      <td>473747</td>\n",
       "      <td>1</td>\n",
       "      <td>3</td>\n",
       "      <td>3</td>\n",
       "      <td>12</td>\n",
       "      <td>21.0</td>\n",
       "      <td>196</td>\n",
       "      <td>1</td>\n",
       "      <td>1</td>\n",
       "      <td>Soda</td>\n",
       "      <td>...</td>\n",
       "      <td>Regular customer</td>\n",
       "      <td>Linda</td>\n",
       "      <td>Nguyen</td>\n",
       "      <td>Female</td>\n",
       "      <td>Alabama</td>\n",
       "      <td>31</td>\n",
       "      <td>2/17/2019</td>\n",
       "      <td>3</td>\n",
       "      <td>married</td>\n",
       "      <td>40423</td>\n",
       "    </tr>\n",
       "    <tr>\n",
       "      <th>3</th>\n",
       "      <td>2254736</td>\n",
       "      <td>1</td>\n",
       "      <td>4</td>\n",
       "      <td>4</td>\n",
       "      <td>7</td>\n",
       "      <td>29.0</td>\n",
       "      <td>196</td>\n",
       "      <td>1</td>\n",
       "      <td>1</td>\n",
       "      <td>Soda</td>\n",
       "      <td>...</td>\n",
       "      <td>Regular customer</td>\n",
       "      <td>Linda</td>\n",
       "      <td>Nguyen</td>\n",
       "      <td>Female</td>\n",
       "      <td>Alabama</td>\n",
       "      <td>31</td>\n",
       "      <td>2/17/2019</td>\n",
       "      <td>3</td>\n",
       "      <td>married</td>\n",
       "      <td>40423</td>\n",
       "    </tr>\n",
       "    <tr>\n",
       "      <th>4</th>\n",
       "      <td>431534</td>\n",
       "      <td>1</td>\n",
       "      <td>5</td>\n",
       "      <td>4</td>\n",
       "      <td>15</td>\n",
       "      <td>28.0</td>\n",
       "      <td>196</td>\n",
       "      <td>1</td>\n",
       "      <td>1</td>\n",
       "      <td>Soda</td>\n",
       "      <td>...</td>\n",
       "      <td>Regular customer</td>\n",
       "      <td>Linda</td>\n",
       "      <td>Nguyen</td>\n",
       "      <td>Female</td>\n",
       "      <td>Alabama</td>\n",
       "      <td>31</td>\n",
       "      <td>2/17/2019</td>\n",
       "      <td>3</td>\n",
       "      <td>married</td>\n",
       "      <td>40423</td>\n",
       "    </tr>\n",
       "    <tr>\n",
       "      <th>5</th>\n",
       "      <td>3367565</td>\n",
       "      <td>1</td>\n",
       "      <td>6</td>\n",
       "      <td>2</td>\n",
       "      <td>7</td>\n",
       "      <td>19.0</td>\n",
       "      <td>196</td>\n",
       "      <td>1</td>\n",
       "      <td>1</td>\n",
       "      <td>Soda</td>\n",
       "      <td>...</td>\n",
       "      <td>Regular customer</td>\n",
       "      <td>Linda</td>\n",
       "      <td>Nguyen</td>\n",
       "      <td>Female</td>\n",
       "      <td>Alabama</td>\n",
       "      <td>31</td>\n",
       "      <td>2/17/2019</td>\n",
       "      <td>3</td>\n",
       "      <td>married</td>\n",
       "      <td>40423</td>\n",
       "    </tr>\n",
       "    <tr>\n",
       "      <th>6</th>\n",
       "      <td>550135</td>\n",
       "      <td>1</td>\n",
       "      <td>7</td>\n",
       "      <td>1</td>\n",
       "      <td>9</td>\n",
       "      <td>20.0</td>\n",
       "      <td>196</td>\n",
       "      <td>1</td>\n",
       "      <td>1</td>\n",
       "      <td>Soda</td>\n",
       "      <td>...</td>\n",
       "      <td>Regular customer</td>\n",
       "      <td>Linda</td>\n",
       "      <td>Nguyen</td>\n",
       "      <td>Female</td>\n",
       "      <td>Alabama</td>\n",
       "      <td>31</td>\n",
       "      <td>2/17/2019</td>\n",
       "      <td>3</td>\n",
       "      <td>married</td>\n",
       "      <td>40423</td>\n",
       "    </tr>\n",
       "    <tr>\n",
       "      <th>7</th>\n",
       "      <td>3108588</td>\n",
       "      <td>1</td>\n",
       "      <td>8</td>\n",
       "      <td>1</td>\n",
       "      <td>14</td>\n",
       "      <td>14.0</td>\n",
       "      <td>196</td>\n",
       "      <td>2</td>\n",
       "      <td>1</td>\n",
       "      <td>Soda</td>\n",
       "      <td>...</td>\n",
       "      <td>Regular customer</td>\n",
       "      <td>Linda</td>\n",
       "      <td>Nguyen</td>\n",
       "      <td>Female</td>\n",
       "      <td>Alabama</td>\n",
       "      <td>31</td>\n",
       "      <td>2/17/2019</td>\n",
       "      <td>3</td>\n",
       "      <td>married</td>\n",
       "      <td>40423</td>\n",
       "    </tr>\n",
       "    <tr>\n",
       "      <th>8</th>\n",
       "      <td>2295261</td>\n",
       "      <td>1</td>\n",
       "      <td>9</td>\n",
       "      <td>1</td>\n",
       "      <td>16</td>\n",
       "      <td>0.0</td>\n",
       "      <td>196</td>\n",
       "      <td>4</td>\n",
       "      <td>1</td>\n",
       "      <td>Soda</td>\n",
       "      <td>...</td>\n",
       "      <td>Regular customer</td>\n",
       "      <td>Linda</td>\n",
       "      <td>Nguyen</td>\n",
       "      <td>Female</td>\n",
       "      <td>Alabama</td>\n",
       "      <td>31</td>\n",
       "      <td>2/17/2019</td>\n",
       "      <td>3</td>\n",
       "      <td>married</td>\n",
       "      <td>40423</td>\n",
       "    </tr>\n",
       "    <tr>\n",
       "      <th>9</th>\n",
       "      <td>2550362</td>\n",
       "      <td>1</td>\n",
       "      <td>10</td>\n",
       "      <td>4</td>\n",
       "      <td>8</td>\n",
       "      <td>30.0</td>\n",
       "      <td>196</td>\n",
       "      <td>1</td>\n",
       "      <td>1</td>\n",
       "      <td>Soda</td>\n",
       "      <td>...</td>\n",
       "      <td>Regular customer</td>\n",
       "      <td>Linda</td>\n",
       "      <td>Nguyen</td>\n",
       "      <td>Female</td>\n",
       "      <td>Alabama</td>\n",
       "      <td>31</td>\n",
       "      <td>2/17/2019</td>\n",
       "      <td>3</td>\n",
       "      <td>married</td>\n",
       "      <td>40423</td>\n",
       "    </tr>\n",
       "  </tbody>\n",
       "</table>\n",
       "<p>10 rows × 31 columns</p>\n",
       "</div>"
      ],
      "text/plain": [
       "   order_id user_id  order_number  orders_day_of_week  order_hour_of_day  \\\n",
       "0   2539329       1             1                   2                  8   \n",
       "1   2398795       1             2                   3                  7   \n",
       "2    473747       1             3                   3                 12   \n",
       "3   2254736       1             4                   4                  7   \n",
       "4    431534       1             5                   4                 15   \n",
       "5   3367565       1             6                   2                  7   \n",
       "6    550135       1             7                   1                  9   \n",
       "7   3108588       1             8                   1                 14   \n",
       "8   2295261       1             9                   1                 16   \n",
       "9   2550362       1            10                   4                  8   \n",
       "\n",
       "   days_since_last_order  product_id  add_to_cart_order  reordered  \\\n",
       "0                    0.0         196                  1          0   \n",
       "1                   15.0         196                  1          1   \n",
       "2                   21.0         196                  1          1   \n",
       "3                   29.0         196                  1          1   \n",
       "4                   28.0         196                  1          1   \n",
       "5                   19.0         196                  1          1   \n",
       "6                   20.0         196                  1          1   \n",
       "7                   14.0         196                  2          1   \n",
       "8                    0.0         196                  4          1   \n",
       "9                   30.0         196                  1          1   \n",
       "\n",
       "  product_name  ...  order_frequency_flag  first_name  surname  gender  \\\n",
       "0         Soda  ...      Regular customer       Linda   Nguyen  Female   \n",
       "1         Soda  ...      Regular customer       Linda   Nguyen  Female   \n",
       "2         Soda  ...      Regular customer       Linda   Nguyen  Female   \n",
       "3         Soda  ...      Regular customer       Linda   Nguyen  Female   \n",
       "4         Soda  ...      Regular customer       Linda   Nguyen  Female   \n",
       "5         Soda  ...      Regular customer       Linda   Nguyen  Female   \n",
       "6         Soda  ...      Regular customer       Linda   Nguyen  Female   \n",
       "7         Soda  ...      Regular customer       Linda   Nguyen  Female   \n",
       "8         Soda  ...      Regular customer       Linda   Nguyen  Female   \n",
       "9         Soda  ...      Regular customer       Linda   Nguyen  Female   \n",
       "\n",
       "     state age  date_joined number_of_dependants  family_status income  \n",
       "0  Alabama  31    2/17/2019                    3        married  40423  \n",
       "1  Alabama  31    2/17/2019                    3        married  40423  \n",
       "2  Alabama  31    2/17/2019                    3        married  40423  \n",
       "3  Alabama  31    2/17/2019                    3        married  40423  \n",
       "4  Alabama  31    2/17/2019                    3        married  40423  \n",
       "5  Alabama  31    2/17/2019                    3        married  40423  \n",
       "6  Alabama  31    2/17/2019                    3        married  40423  \n",
       "7  Alabama  31    2/17/2019                    3        married  40423  \n",
       "8  Alabama  31    2/17/2019                    3        married  40423  \n",
       "9  Alabama  31    2/17/2019                    3        married  40423  \n",
       "\n",
       "[10 rows x 31 columns]"
      ]
     },
     "execution_count": 4,
     "metadata": {},
     "output_type": "execute_result"
    }
   ],
   "source": [
    "# check dataframe\n",
    "df_instacart.head(10)"
   ]
  },
  {
   "cell_type": "code",
   "execution_count": 5,
   "id": "02d28399",
   "metadata": {},
   "outputs": [
    {
     "data": {
      "text/plain": [
       "Index(['order_id', 'user_id', 'order_number', 'orders_day_of_week',\n",
       "       'order_hour_of_day', 'days_since_last_order', 'product_id',\n",
       "       'add_to_cart_order', 'reordered', 'product_name', 'aisle_id',\n",
       "       'department_id', 'prices', 'prices_range_loc', 'busiest_days',\n",
       "       'busiest_period_of_day', 'max_order', 'loyalty_flag', 'average_price',\n",
       "       'spending_flag', 'median_orders', 'order_frequency_flag', 'first_name',\n",
       "       'surname', 'gender', 'state', 'age', 'date_joined',\n",
       "       'number_of_dependants', 'family_status', 'income'],\n",
       "      dtype='object')"
      ]
     },
     "execution_count": 5,
     "metadata": {},
     "output_type": "execute_result"
    }
   ],
   "source": [
    "# checking columns in dataframe\n",
    "df_instacart.columns"
   ]
  },
  {
   "cell_type": "code",
   "execution_count": 6,
   "id": "015ec9f2",
   "metadata": {},
   "outputs": [
    {
     "data": {
      "text/plain": [
       "(32404859, 31)"
      ]
     },
     "execution_count": 6,
     "metadata": {},
     "output_type": "execute_result"
    }
   ],
   "source": [
    "# check data shape\n",
    "df_instacart.shape"
   ]
  },
  {
   "cell_type": "markdown",
   "id": "48980f2e",
   "metadata": {},
   "source": [
    "#### 3. Addressing Security Concerns"
   ]
  },
  {
   "cell_type": "code",
   "execution_count": 7,
   "id": "fc91f142",
   "metadata": {},
   "outputs": [],
   "source": [
    "# drop first name and surname from dataframe\n",
    "df_instacart = df_instacart.drop(columns =['first_name','surname'])"
   ]
  },
  {
   "cell_type": "markdown",
   "id": "66d9f5aa",
   "metadata": {},
   "source": [
    "The first name and surname columns had to be dropped from the dataframe due to matters relating to personal identifiable information."
   ]
  },
  {
   "cell_type": "markdown",
   "id": "17676675",
   "metadata": {},
   "source": [
    "#### 4. Region Segmentation and Customer Behaviour"
   ]
  },
  {
   "cell_type": "code",
   "execution_count": 8,
   "id": "1ab679d1",
   "metadata": {
    "scrolled": true
   },
   "outputs": [
    {
     "data": {
      "text/plain": [
       "state\n",
       "Pennsylvania            667082\n",
       "California              659783\n",
       "Rhode Island            656913\n",
       "Georgia                 656389\n",
       "New Mexico              654494\n",
       "Arizona                 653964\n",
       "North Carolina          651900\n",
       "Oklahoma                651739\n",
       "Alaska                  648495\n",
       "Minnesota               647825\n",
       "Massachusetts           646358\n",
       "Wyoming                 644255\n",
       "Virginia                641421\n",
       "Missouri                640732\n",
       "Texas                   640394\n",
       "Colorado                639280\n",
       "Maine                   638583\n",
       "North Dakota            638491\n",
       "Alabama                 638003\n",
       "Kansas                  637538\n",
       "Louisiana               637482\n",
       "Delaware                637024\n",
       "South Carolina          636754\n",
       "Oregon                  636425\n",
       "Arkansas                636144\n",
       "Nevada                  636139\n",
       "New York                635983\n",
       "Montana                 635265\n",
       "South Dakota            633772\n",
       "Illinois                633024\n",
       "Hawaii                  632901\n",
       "Washington              632852\n",
       "Mississippi             632675\n",
       "Kentucky                632490\n",
       "Michigan                630928\n",
       "Florida                 629027\n",
       "Ohio                    628319\n",
       "Wisconsin               628108\n",
       "New Jersey              627692\n",
       "Indiana                 627282\n",
       "Maryland                626579\n",
       "Nebraska                625813\n",
       "Iowa                    625493\n",
       "Connecticut             623022\n",
       "Tennessee               617873\n",
       "New Hampshire           615378\n",
       "District of Columbia    613695\n",
       "West Virginia           612296\n",
       "Utah                    611941\n",
       "Vermont                 611725\n",
       "Idaho                   607119\n",
       "Name: count, dtype: int64"
      ]
     },
     "execution_count": 8,
     "metadata": {},
     "output_type": "execute_result"
    }
   ],
   "source": [
    "# verify state values\n",
    "df_instacart['state'].value_counts(dropna = False)"
   ]
  },
  {
   "cell_type": "code",
   "execution_count": 10,
   "id": "bd341da1",
   "metadata": {},
   "outputs": [],
   "source": [
    "# create list for Northeast region\n",
    "Northeast = ['Maine','New Hampshire','Vermont','Massachusetts','Vermont','Rhode Island','Connecticut','New York','Pennsylvania','New Jersey']"
   ]
  },
  {
   "cell_type": "code",
   "execution_count": 11,
   "id": "1d0f352b",
   "metadata": {},
   "outputs": [],
   "source": [
    "# creat list for Midwest region\n",
    "Midwest = ['Wisconsin','Michigan','Illinois','Indiana','Ohio','North Dakota','South Dakota','Nebraska','Kansas','Minnesota','Iowa','Missouri']"
   ]
  },
  {
   "cell_type": "code",
   "execution_count": 12,
   "id": "bdc2b5d2",
   "metadata": {},
   "outputs": [],
   "source": [
    "# create list for South Region\n",
    "South = ['Delaware','Maryland','District of Columbia','Virginia','West Virginia','North Carolina','South Carolina','Georgia','Florida','Kentucky','Tennessee','Mississippi','Alabama','Oklahoma','Texas','Arkansas','Louisiana']"
   ]
  },
  {
   "cell_type": "code",
   "execution_count": 13,
   "id": "2b42fdb6",
   "metadata": {},
   "outputs": [],
   "source": [
    "# create list for West region\n",
    "West = ['Idaho','Montana','Wyoming','Nevada','Utah','Colorado','Arizona','New Mexico','Alaska','Washington','Oregon','California','Hawaii']"
   ]
  },
  {
   "cell_type": "code",
   "execution_count": 14,
   "id": "95fa4e33",
   "metadata": {},
   "outputs": [],
   "source": [
    "# create 'Northeast' variable for the 'region_flag' column\n",
    "df_instacart.loc[df_instacart['state'].isin(Northeast),'region_flag'] = 'Northeast'"
   ]
  },
  {
   "cell_type": "code",
   "execution_count": 15,
   "id": "cd480948",
   "metadata": {},
   "outputs": [],
   "source": [
    "# create 'Midwest' variable for the 'region_flag' column\n",
    "df_instacart.loc[df_instacart['state'].isin(Midwest),'region_flag'] = 'Midwest'"
   ]
  },
  {
   "cell_type": "code",
   "execution_count": 16,
   "id": "782f31db",
   "metadata": {},
   "outputs": [],
   "source": [
    "# create 'South'variable for the 'region_flag' column\n",
    "df_instacart.loc[df_instacart['state'].isin(South),'region_flag'] = 'South'"
   ]
  },
  {
   "cell_type": "code",
   "execution_count": 17,
   "id": "e48bb629",
   "metadata": {},
   "outputs": [],
   "source": [
    "# create 'West' variable for the 'region_flag' column\n",
    "df_instacart.loc[df_instacart['state'].isin(West),'region_flag'] = 'West'"
   ]
  },
  {
   "cell_type": "code",
   "execution_count": 18,
   "id": "4990558d",
   "metadata": {},
   "outputs": [
    {
     "data": {
      "text/plain": [
       "region_flag\n",
       "South        10791885\n",
       "West          8292913\n",
       "Midwest       7597325\n",
       "Northeast     5722736\n",
       "Name: count, dtype: int64"
      ]
     },
     "execution_count": 18,
     "metadata": {},
     "output_type": "execute_result"
    }
   ],
   "source": [
    "# check new column and variables\n",
    "df_instacart['region_flag'].value_counts(dropna = False)"
   ]
  },
  {
   "cell_type": "markdown",
   "id": "555e787e",
   "metadata": {},
   "source": [
    "The segmentation results showcases that most customer orders come from the south region of the United States, followed by the west region and then the midwest region. The northeast region has the least number of customer orders."
   ]
  },
  {
   "cell_type": "code",
   "execution_count": 19,
   "id": "3e1b7c0d",
   "metadata": {},
   "outputs": [],
   "source": [
    "# create crosstab for consumer spending_flag and region_flag\n",
    "region_spender_crosstab = pd.crosstab(df_instacart['region_flag'], df_instacart['spending_flag'], dropna = False)"
   ]
  },
  {
   "cell_type": "code",
   "execution_count": 20,
   "id": "c76d095c",
   "metadata": {},
   "outputs": [
    {
     "data": {
      "text/html": [
       "<div>\n",
       "<style scoped>\n",
       "    .dataframe tbody tr th:only-of-type {\n",
       "        vertical-align: middle;\n",
       "    }\n",
       "\n",
       "    .dataframe tbody tr th {\n",
       "        vertical-align: top;\n",
       "    }\n",
       "\n",
       "    .dataframe thead th {\n",
       "        text-align: right;\n",
       "    }\n",
       "</style>\n",
       "<table border=\"1\" class=\"dataframe\">\n",
       "  <thead>\n",
       "    <tr style=\"text-align: right;\">\n",
       "      <th>spending_flag</th>\n",
       "      <th>High spender</th>\n",
       "      <th>Low spender</th>\n",
       "    </tr>\n",
       "    <tr>\n",
       "      <th>region_flag</th>\n",
       "      <th></th>\n",
       "      <th></th>\n",
       "    </tr>\n",
       "  </thead>\n",
       "  <tbody>\n",
       "    <tr>\n",
       "      <th>Midwest</th>\n",
       "      <td>155975</td>\n",
       "      <td>7441350</td>\n",
       "    </tr>\n",
       "    <tr>\n",
       "      <th>Northeast</th>\n",
       "      <td>108225</td>\n",
       "      <td>5614511</td>\n",
       "    </tr>\n",
       "    <tr>\n",
       "      <th>South</th>\n",
       "      <td>209691</td>\n",
       "      <td>10582194</td>\n",
       "    </tr>\n",
       "    <tr>\n",
       "      <th>West</th>\n",
       "      <td>160354</td>\n",
       "      <td>8132559</td>\n",
       "    </tr>\n",
       "  </tbody>\n",
       "</table>\n",
       "</div>"
      ],
      "text/plain": [
       "spending_flag  High spender  Low spender\n",
       "region_flag                             \n",
       "Midwest              155975      7441350\n",
       "Northeast            108225      5614511\n",
       "South                209691     10582194\n",
       "West                 160354      8132559"
      ]
     },
     "execution_count": 20,
     "metadata": {},
     "output_type": "execute_result"
    }
   ],
   "source": [
    "region_spender_crosstab"
   ]
  },
  {
   "cell_type": "markdown",
   "id": "b714184f",
   "metadata": {},
   "source": [
    "There isnt much difference between spenders per region in the United States."
   ]
  },
  {
   "cell_type": "markdown",
   "id": "aae6e597",
   "metadata": {},
   "source": [
    "#### 5. Low-activity customers"
   ]
  },
  {
   "cell_type": "code",
   "execution_count": 21,
   "id": "16547b4e",
   "metadata": {},
   "outputs": [],
   "source": [
    "# create 'max_order' column in the dataframe\n",
    "df_instacart['max_order'] = df_instacart.groupby(['user_id'])['order_number'].transform(np.max)"
   ]
  },
  {
   "cell_type": "code",
   "execution_count": 22,
   "id": "f748f639",
   "metadata": {},
   "outputs": [],
   "source": [
    "# create 'low-activity' value in the 'user_activity' column\n",
    "df_instacart.loc[df_instacart['max_order'] < 5, 'user_activity'] = 'Low activity'"
   ]
  },
  {
   "cell_type": "code",
   "execution_count": 23,
   "id": "d88dee7c",
   "metadata": {},
   "outputs": [],
   "source": [
    "# create 'active' value in the 'user_activity' column\n",
    "df_instacart.loc[df_instacart['max_order'] >= 5, 'user_activity'] = 'active'"
   ]
  },
  {
   "cell_type": "code",
   "execution_count": 24,
   "id": "eb9e3568",
   "metadata": {},
   "outputs": [
    {
     "data": {
      "text/plain": [
       "user_activity\n",
       "active          30964564\n",
       "Low activity     1440295\n",
       "Name: count, dtype: int64"
      ]
     },
     "execution_count": 24,
     "metadata": {},
     "output_type": "execute_result"
    }
   ],
   "source": [
    "# verify new column and values\n",
    "df_instacart['user_activity'].value_counts(dropna = False)"
   ]
  },
  {
   "cell_type": "code",
   "execution_count": 25,
   "id": "a83ce27f",
   "metadata": {},
   "outputs": [],
   "source": [
    "# creata subset dataframe with 'active' value from the 'user_activity' column\n",
    "df_active_users = df_instacart[df_instacart['user_activity'] == 'active']"
   ]
  },
  {
   "cell_type": "code",
   "execution_count": 26,
   "id": "3ce8e0ba",
   "metadata": {},
   "outputs": [
    {
     "data": {
      "text/plain": [
       "(30964564, 31)"
      ]
     },
     "execution_count": 26,
     "metadata": {},
     "output_type": "execute_result"
    }
   ],
   "source": [
    "# verify shape\n",
    "df_active_users.shape"
   ]
  },
  {
   "cell_type": "code",
   "execution_count": 27,
   "id": "c6f68609",
   "metadata": {},
   "outputs": [],
   "source": [
    "# export new dataframe to project folder\n",
    "df_active_users.to_pickle(os.path.join(path,'02 Data','Prepared Data','instacart_active_users.pkl'))"
   ]
  },
  {
   "cell_type": "code",
   "execution_count": 28,
   "id": "042b0d55",
   "metadata": {},
   "outputs": [],
   "source": [
    "# export new dataframe to project folder\n",
    "df_instacart.to_pickle(os.path.join(path,'02 Data','Prepared Data','instacart_data.pkl'))"
   ]
  }
 ],
 "metadata": {
  "kernelspec": {
   "display_name": "Python 3 (ipykernel)",
   "language": "python",
   "name": "python3"
  },
  "language_info": {
   "codemirror_mode": {
    "name": "ipython",
    "version": 3
   },
   "file_extension": ".py",
   "mimetype": "text/x-python",
   "name": "python",
   "nbconvert_exporter": "python",
   "pygments_lexer": "ipython3",
   "version": "3.11.5"
  }
 },
 "nbformat": 4,
 "nbformat_minor": 5
}
