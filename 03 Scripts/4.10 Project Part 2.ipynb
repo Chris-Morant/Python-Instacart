{
 "cells": [
  {
   "cell_type": "markdown",
   "id": "51af3c95",
   "metadata": {},
   "source": [
    "# Pending Project Name\n"
   ]
  },
  {
   "cell_type": "code",
   "execution_count": 1,
   "id": "32309fde",
   "metadata": {},
   "outputs": [],
   "source": [
    "# import libraries\n",
    "import pandas as pd\n",
    "import numpy as np\n",
    "import os\n",
    "import matplotlib.pyplot as plt\n",
    "import seaborn as sns\n",
    "import scipy"
   ]
  },
  {
   "cell_type": "markdown",
   "id": "c78ab454",
   "metadata": {},
   "source": [
    "### List of Contents\n",
    "#### 1. Data Load\n",
    "#### 2. Data Consistency and Merge\n",
    "#### 3. Customer Profile Creation\n",
    "#### 4. Customer Profile Visualization\n",
    "#### 5. Customer Profile Aggregates\n",
    "#### 6. Customer Profile by Region and Department\n"
   ]
  },
  {
   "cell_type": "markdown",
   "id": "89859d2a",
   "metadata": {},
   "source": [
    "#### 1. Data Load"
   ]
  },
  {
   "cell_type": "code",
   "execution_count": 2,
   "id": "57abb678",
   "metadata": {},
   "outputs": [],
   "source": [
    "# create path to project folder\n",
    "path = r'C:\\Users\\chris\\OneDrive\\Documents\\11-23-2023 Instacart Basket Analysis'\n"
   ]
  },
  {
   "cell_type": "code",
   "execution_count": 3,
   "id": "4b1d7115",
   "metadata": {},
   "outputs": [],
   "source": [
    "# load instacart data as dataframe\n",
    "df_instacart = pd.read_pickle(os.path.join(path,'02 Data','Prepared Data', 'instacart_data.pkl'))"
   ]
  },
  {
   "cell_type": "code",
   "execution_count": 4,
   "id": "55a1e78b",
   "metadata": {},
   "outputs": [],
   "source": [
    "# load department id data as dataframe\n",
    "df_dept = pd.read_csv(os.path.join(path,'02 Data','Prepared Data','departments_wrangled.csv'), index_col = False)"
   ]
  },
  {
   "cell_type": "markdown",
   "id": "caa292a9",
   "metadata": {},
   "source": [
    "#### 2. Data Consistency and Merge"
   ]
  },
  {
   "cell_type": "code",
   "execution_count": 5,
   "id": "89cced4a",
   "metadata": {},
   "outputs": [
    {
     "data": {
      "text/plain": [
       "(32404859, 31)"
      ]
     },
     "execution_count": 5,
     "metadata": {},
     "output_type": "execute_result"
    }
   ],
   "source": [
    "# check dimensions in dataframe\n",
    "df_instacart.shape"
   ]
  },
  {
   "cell_type": "code",
   "execution_count": 6,
   "id": "7bf28f53",
   "metadata": {
    "scrolled": false
   },
   "outputs": [
    {
     "data": {
      "text/html": [
       "<div>\n",
       "<style scoped>\n",
       "    .dataframe tbody tr th:only-of-type {\n",
       "        vertical-align: middle;\n",
       "    }\n",
       "\n",
       "    .dataframe tbody tr th {\n",
       "        vertical-align: top;\n",
       "    }\n",
       "\n",
       "    .dataframe thead th {\n",
       "        text-align: right;\n",
       "    }\n",
       "</style>\n",
       "<table border=\"1\" class=\"dataframe\">\n",
       "  <thead>\n",
       "    <tr style=\"text-align: right;\">\n",
       "      <th></th>\n",
       "      <th>order_id</th>\n",
       "      <th>user_id</th>\n",
       "      <th>order_number</th>\n",
       "      <th>orders_day_of_week</th>\n",
       "      <th>order_hour_of_day</th>\n",
       "      <th>days_since_last_order</th>\n",
       "      <th>product_id</th>\n",
       "      <th>add_to_cart_order</th>\n",
       "      <th>reordered</th>\n",
       "      <th>product_name</th>\n",
       "      <th>...</th>\n",
       "      <th>order_frequency_flag</th>\n",
       "      <th>gender</th>\n",
       "      <th>state</th>\n",
       "      <th>age</th>\n",
       "      <th>date_joined</th>\n",
       "      <th>number_of_dependants</th>\n",
       "      <th>family_status</th>\n",
       "      <th>income</th>\n",
       "      <th>region_flag</th>\n",
       "      <th>user_activity</th>\n",
       "    </tr>\n",
       "  </thead>\n",
       "  <tbody>\n",
       "    <tr>\n",
       "      <th>0</th>\n",
       "      <td>2539329</td>\n",
       "      <td>1</td>\n",
       "      <td>1</td>\n",
       "      <td>2</td>\n",
       "      <td>8</td>\n",
       "      <td>0.0</td>\n",
       "      <td>196</td>\n",
       "      <td>1</td>\n",
       "      <td>0</td>\n",
       "      <td>Soda</td>\n",
       "      <td>...</td>\n",
       "      <td>Regular customer</td>\n",
       "      <td>Female</td>\n",
       "      <td>Alabama</td>\n",
       "      <td>31</td>\n",
       "      <td>2/17/2019</td>\n",
       "      <td>3</td>\n",
       "      <td>married</td>\n",
       "      <td>40423</td>\n",
       "      <td>South</td>\n",
       "      <td>active</td>\n",
       "    </tr>\n",
       "    <tr>\n",
       "      <th>1</th>\n",
       "      <td>2398795</td>\n",
       "      <td>1</td>\n",
       "      <td>2</td>\n",
       "      <td>3</td>\n",
       "      <td>7</td>\n",
       "      <td>15.0</td>\n",
       "      <td>196</td>\n",
       "      <td>1</td>\n",
       "      <td>1</td>\n",
       "      <td>Soda</td>\n",
       "      <td>...</td>\n",
       "      <td>Regular customer</td>\n",
       "      <td>Female</td>\n",
       "      <td>Alabama</td>\n",
       "      <td>31</td>\n",
       "      <td>2/17/2019</td>\n",
       "      <td>3</td>\n",
       "      <td>married</td>\n",
       "      <td>40423</td>\n",
       "      <td>South</td>\n",
       "      <td>active</td>\n",
       "    </tr>\n",
       "    <tr>\n",
       "      <th>2</th>\n",
       "      <td>473747</td>\n",
       "      <td>1</td>\n",
       "      <td>3</td>\n",
       "      <td>3</td>\n",
       "      <td>12</td>\n",
       "      <td>21.0</td>\n",
       "      <td>196</td>\n",
       "      <td>1</td>\n",
       "      <td>1</td>\n",
       "      <td>Soda</td>\n",
       "      <td>...</td>\n",
       "      <td>Regular customer</td>\n",
       "      <td>Female</td>\n",
       "      <td>Alabama</td>\n",
       "      <td>31</td>\n",
       "      <td>2/17/2019</td>\n",
       "      <td>3</td>\n",
       "      <td>married</td>\n",
       "      <td>40423</td>\n",
       "      <td>South</td>\n",
       "      <td>active</td>\n",
       "    </tr>\n",
       "    <tr>\n",
       "      <th>3</th>\n",
       "      <td>2254736</td>\n",
       "      <td>1</td>\n",
       "      <td>4</td>\n",
       "      <td>4</td>\n",
       "      <td>7</td>\n",
       "      <td>29.0</td>\n",
       "      <td>196</td>\n",
       "      <td>1</td>\n",
       "      <td>1</td>\n",
       "      <td>Soda</td>\n",
       "      <td>...</td>\n",
       "      <td>Regular customer</td>\n",
       "      <td>Female</td>\n",
       "      <td>Alabama</td>\n",
       "      <td>31</td>\n",
       "      <td>2/17/2019</td>\n",
       "      <td>3</td>\n",
       "      <td>married</td>\n",
       "      <td>40423</td>\n",
       "      <td>South</td>\n",
       "      <td>active</td>\n",
       "    </tr>\n",
       "    <tr>\n",
       "      <th>4</th>\n",
       "      <td>431534</td>\n",
       "      <td>1</td>\n",
       "      <td>5</td>\n",
       "      <td>4</td>\n",
       "      <td>15</td>\n",
       "      <td>28.0</td>\n",
       "      <td>196</td>\n",
       "      <td>1</td>\n",
       "      <td>1</td>\n",
       "      <td>Soda</td>\n",
       "      <td>...</td>\n",
       "      <td>Regular customer</td>\n",
       "      <td>Female</td>\n",
       "      <td>Alabama</td>\n",
       "      <td>31</td>\n",
       "      <td>2/17/2019</td>\n",
       "      <td>3</td>\n",
       "      <td>married</td>\n",
       "      <td>40423</td>\n",
       "      <td>South</td>\n",
       "      <td>active</td>\n",
       "    </tr>\n",
       "  </tbody>\n",
       "</table>\n",
       "<p>5 rows × 31 columns</p>\n",
       "</div>"
      ],
      "text/plain": [
       "   order_id user_id  order_number  orders_day_of_week  order_hour_of_day  \\\n",
       "0   2539329       1             1                   2                  8   \n",
       "1   2398795       1             2                   3                  7   \n",
       "2    473747       1             3                   3                 12   \n",
       "3   2254736       1             4                   4                  7   \n",
       "4    431534       1             5                   4                 15   \n",
       "\n",
       "   days_since_last_order  product_id  add_to_cart_order  reordered  \\\n",
       "0                    0.0         196                  1          0   \n",
       "1                   15.0         196                  1          1   \n",
       "2                   21.0         196                  1          1   \n",
       "3                   29.0         196                  1          1   \n",
       "4                   28.0         196                  1          1   \n",
       "\n",
       "  product_name  ...  order_frequency_flag  gender    state age date_joined  \\\n",
       "0         Soda  ...      Regular customer  Female  Alabama  31   2/17/2019   \n",
       "1         Soda  ...      Regular customer  Female  Alabama  31   2/17/2019   \n",
       "2         Soda  ...      Regular customer  Female  Alabama  31   2/17/2019   \n",
       "3         Soda  ...      Regular customer  Female  Alabama  31   2/17/2019   \n",
       "4         Soda  ...      Regular customer  Female  Alabama  31   2/17/2019   \n",
       "\n",
       "  number_of_dependants  family_status income  region_flag user_activity  \n",
       "0                    3        married  40423        South        active  \n",
       "1                    3        married  40423        South        active  \n",
       "2                    3        married  40423        South        active  \n",
       "3                    3        married  40423        South        active  \n",
       "4                    3        married  40423        South        active  \n",
       "\n",
       "[5 rows x 31 columns]"
      ]
     },
     "execution_count": 6,
     "metadata": {},
     "output_type": "execute_result"
    }
   ],
   "source": [
    "# verify instacart data set head\n",
    "df_instacart.head()"
   ]
  },
  {
   "cell_type": "code",
   "execution_count": 7,
   "id": "7db972ed",
   "metadata": {},
   "outputs": [
    {
     "data": {
      "text/plain": [
       "(21, 2)"
      ]
     },
     "execution_count": 7,
     "metadata": {},
     "output_type": "execute_result"
    }
   ],
   "source": [
    "# verify department dataframe dimensions\n",
    "df_dept.shape"
   ]
  },
  {
   "cell_type": "code",
   "execution_count": 8,
   "id": "ecc545f6",
   "metadata": {},
   "outputs": [
    {
     "data": {
      "text/html": [
       "<div>\n",
       "<style scoped>\n",
       "    .dataframe tbody tr th:only-of-type {\n",
       "        vertical-align: middle;\n",
       "    }\n",
       "\n",
       "    .dataframe tbody tr th {\n",
       "        vertical-align: top;\n",
       "    }\n",
       "\n",
       "    .dataframe thead th {\n",
       "        text-align: right;\n",
       "    }\n",
       "</style>\n",
       "<table border=\"1\" class=\"dataframe\">\n",
       "  <thead>\n",
       "    <tr style=\"text-align: right;\">\n",
       "      <th></th>\n",
       "      <th>Unnamed: 0</th>\n",
       "      <th>department</th>\n",
       "    </tr>\n",
       "  </thead>\n",
       "  <tbody>\n",
       "    <tr>\n",
       "      <th>0</th>\n",
       "      <td>1</td>\n",
       "      <td>frozen</td>\n",
       "    </tr>\n",
       "    <tr>\n",
       "      <th>1</th>\n",
       "      <td>2</td>\n",
       "      <td>other</td>\n",
       "    </tr>\n",
       "    <tr>\n",
       "      <th>2</th>\n",
       "      <td>3</td>\n",
       "      <td>bakery</td>\n",
       "    </tr>\n",
       "    <tr>\n",
       "      <th>3</th>\n",
       "      <td>4</td>\n",
       "      <td>produce</td>\n",
       "    </tr>\n",
       "    <tr>\n",
       "      <th>4</th>\n",
       "      <td>5</td>\n",
       "      <td>alcohol</td>\n",
       "    </tr>\n",
       "    <tr>\n",
       "      <th>5</th>\n",
       "      <td>6</td>\n",
       "      <td>international</td>\n",
       "    </tr>\n",
       "    <tr>\n",
       "      <th>6</th>\n",
       "      <td>7</td>\n",
       "      <td>beverages</td>\n",
       "    </tr>\n",
       "    <tr>\n",
       "      <th>7</th>\n",
       "      <td>8</td>\n",
       "      <td>pets</td>\n",
       "    </tr>\n",
       "    <tr>\n",
       "      <th>8</th>\n",
       "      <td>9</td>\n",
       "      <td>dry goods pasta</td>\n",
       "    </tr>\n",
       "    <tr>\n",
       "      <th>9</th>\n",
       "      <td>10</td>\n",
       "      <td>bulk</td>\n",
       "    </tr>\n",
       "    <tr>\n",
       "      <th>10</th>\n",
       "      <td>11</td>\n",
       "      <td>personal care</td>\n",
       "    </tr>\n",
       "    <tr>\n",
       "      <th>11</th>\n",
       "      <td>12</td>\n",
       "      <td>meat seafood</td>\n",
       "    </tr>\n",
       "    <tr>\n",
       "      <th>12</th>\n",
       "      <td>13</td>\n",
       "      <td>pantry</td>\n",
       "    </tr>\n",
       "    <tr>\n",
       "      <th>13</th>\n",
       "      <td>14</td>\n",
       "      <td>breakfast</td>\n",
       "    </tr>\n",
       "    <tr>\n",
       "      <th>14</th>\n",
       "      <td>15</td>\n",
       "      <td>canned goods</td>\n",
       "    </tr>\n",
       "    <tr>\n",
       "      <th>15</th>\n",
       "      <td>16</td>\n",
       "      <td>dairy eggs</td>\n",
       "    </tr>\n",
       "    <tr>\n",
       "      <th>16</th>\n",
       "      <td>17</td>\n",
       "      <td>household</td>\n",
       "    </tr>\n",
       "    <tr>\n",
       "      <th>17</th>\n",
       "      <td>18</td>\n",
       "      <td>babies</td>\n",
       "    </tr>\n",
       "    <tr>\n",
       "      <th>18</th>\n",
       "      <td>19</td>\n",
       "      <td>snacks</td>\n",
       "    </tr>\n",
       "    <tr>\n",
       "      <th>19</th>\n",
       "      <td>20</td>\n",
       "      <td>deli</td>\n",
       "    </tr>\n",
       "    <tr>\n",
       "      <th>20</th>\n",
       "      <td>21</td>\n",
       "      <td>missing</td>\n",
       "    </tr>\n",
       "  </tbody>\n",
       "</table>\n",
       "</div>"
      ],
      "text/plain": [
       "    Unnamed: 0       department\n",
       "0            1           frozen\n",
       "1            2            other\n",
       "2            3           bakery\n",
       "3            4          produce\n",
       "4            5          alcohol\n",
       "5            6    international\n",
       "6            7        beverages\n",
       "7            8             pets\n",
       "8            9  dry goods pasta\n",
       "9           10             bulk\n",
       "10          11    personal care\n",
       "11          12     meat seafood\n",
       "12          13           pantry\n",
       "13          14        breakfast\n",
       "14          15     canned goods\n",
       "15          16       dairy eggs\n",
       "16          17        household\n",
       "17          18           babies\n",
       "18          19           snacks\n",
       "19          20             deli\n",
       "20          21          missing"
      ]
     },
     "execution_count": 8,
     "metadata": {},
     "output_type": "execute_result"
    }
   ],
   "source": [
    "# verify department dataframe contents\n",
    "df_dept.head(21)"
   ]
  },
  {
   "cell_type": "code",
   "execution_count": 9,
   "id": "03638249",
   "metadata": {},
   "outputs": [
    {
     "data": {
      "text/plain": [
       "Index(['Unnamed: 0', 'department'], dtype='object')"
      ]
     },
     "execution_count": 9,
     "metadata": {},
     "output_type": "execute_result"
    }
   ],
   "source": [
    "# verify df_dept columns\n",
    "df_dept.columns"
   ]
  },
  {
   "cell_type": "code",
   "execution_count": 10,
   "id": "5a052586",
   "metadata": {},
   "outputs": [],
   "source": [
    "# change column name to 'department_id'\n",
    "df_dept.rename(columns = {'Unnamed: 0':'department_id'}, inplace = True)"
   ]
  },
  {
   "cell_type": "code",
   "execution_count": 11,
   "id": "1f601a12",
   "metadata": {},
   "outputs": [
    {
     "data": {
      "text/plain": [
       "Index(['department_id', 'department'], dtype='object')"
      ]
     },
     "execution_count": 11,
     "metadata": {},
     "output_type": "execute_result"
    }
   ],
   "source": [
    "# verify new column name\n",
    "df_dept.columns"
   ]
  },
  {
   "cell_type": "code",
   "execution_count": 12,
   "id": "0965755f",
   "metadata": {},
   "outputs": [
    {
     "data": {
      "text/plain": [
       "dtype('int64')"
      ]
     },
     "execution_count": 12,
     "metadata": {},
     "output_type": "execute_result"
    }
   ],
   "source": [
    "# confirm 'department_id' data type from df_instacart\n",
    "df_instacart['department_id'].dtype"
   ]
  },
  {
   "cell_type": "code",
   "execution_count": 13,
   "id": "39456d1b",
   "metadata": {},
   "outputs": [
    {
     "data": {
      "text/plain": [
       "dtype('int64')"
      ]
     },
     "execution_count": 13,
     "metadata": {},
     "output_type": "execute_result"
    }
   ],
   "source": [
    "# confirm 'department_id' data type from df_dept\n",
    "df_dept['department_id'].dtype"
   ]
  },
  {
   "cell_type": "code",
   "execution_count": 14,
   "id": "7f11deab",
   "metadata": {},
   "outputs": [],
   "source": [
    "# merge the instacart and deparment dataframes using the 'department_id' column\n",
    "df_merge = df_instacart.merge(df_dept, on = 'department_id', indicator = True)"
   ]
  },
  {
   "cell_type": "code",
   "execution_count": 16,
   "id": "a45677c8",
   "metadata": {
    "scrolled": false
   },
   "outputs": [
    {
     "data": {
      "text/html": [
       "<div>\n",
       "<style scoped>\n",
       "    .dataframe tbody tr th:only-of-type {\n",
       "        vertical-align: middle;\n",
       "    }\n",
       "\n",
       "    .dataframe tbody tr th {\n",
       "        vertical-align: top;\n",
       "    }\n",
       "\n",
       "    .dataframe thead th {\n",
       "        text-align: right;\n",
       "    }\n",
       "</style>\n",
       "<table border=\"1\" class=\"dataframe\">\n",
       "  <thead>\n",
       "    <tr style=\"text-align: right;\">\n",
       "      <th></th>\n",
       "      <th>order_id</th>\n",
       "      <th>user_id</th>\n",
       "      <th>order_number</th>\n",
       "      <th>orders_day_of_week</th>\n",
       "      <th>order_hour_of_day</th>\n",
       "      <th>days_since_last_order</th>\n",
       "      <th>product_id</th>\n",
       "      <th>add_to_cart_order</th>\n",
       "      <th>reordered</th>\n",
       "      <th>product_name</th>\n",
       "      <th>...</th>\n",
       "      <th>state</th>\n",
       "      <th>age</th>\n",
       "      <th>date_joined</th>\n",
       "      <th>number_of_dependants</th>\n",
       "      <th>family_status</th>\n",
       "      <th>income</th>\n",
       "      <th>region_flag</th>\n",
       "      <th>user_activity</th>\n",
       "      <th>department</th>\n",
       "      <th>_merge</th>\n",
       "    </tr>\n",
       "  </thead>\n",
       "  <tbody>\n",
       "    <tr>\n",
       "      <th>0</th>\n",
       "      <td>2539329</td>\n",
       "      <td>1</td>\n",
       "      <td>1</td>\n",
       "      <td>2</td>\n",
       "      <td>8</td>\n",
       "      <td>0.0</td>\n",
       "      <td>196</td>\n",
       "      <td>1</td>\n",
       "      <td>0</td>\n",
       "      <td>Soda</td>\n",
       "      <td>...</td>\n",
       "      <td>Alabama</td>\n",
       "      <td>31</td>\n",
       "      <td>2/17/2019</td>\n",
       "      <td>3</td>\n",
       "      <td>married</td>\n",
       "      <td>40423</td>\n",
       "      <td>South</td>\n",
       "      <td>active</td>\n",
       "      <td>beverages</td>\n",
       "      <td>both</td>\n",
       "    </tr>\n",
       "    <tr>\n",
       "      <th>1</th>\n",
       "      <td>2398795</td>\n",
       "      <td>1</td>\n",
       "      <td>2</td>\n",
       "      <td>3</td>\n",
       "      <td>7</td>\n",
       "      <td>15.0</td>\n",
       "      <td>196</td>\n",
       "      <td>1</td>\n",
       "      <td>1</td>\n",
       "      <td>Soda</td>\n",
       "      <td>...</td>\n",
       "      <td>Alabama</td>\n",
       "      <td>31</td>\n",
       "      <td>2/17/2019</td>\n",
       "      <td>3</td>\n",
       "      <td>married</td>\n",
       "      <td>40423</td>\n",
       "      <td>South</td>\n",
       "      <td>active</td>\n",
       "      <td>beverages</td>\n",
       "      <td>both</td>\n",
       "    </tr>\n",
       "    <tr>\n",
       "      <th>2</th>\n",
       "      <td>473747</td>\n",
       "      <td>1</td>\n",
       "      <td>3</td>\n",
       "      <td>3</td>\n",
       "      <td>12</td>\n",
       "      <td>21.0</td>\n",
       "      <td>196</td>\n",
       "      <td>1</td>\n",
       "      <td>1</td>\n",
       "      <td>Soda</td>\n",
       "      <td>...</td>\n",
       "      <td>Alabama</td>\n",
       "      <td>31</td>\n",
       "      <td>2/17/2019</td>\n",
       "      <td>3</td>\n",
       "      <td>married</td>\n",
       "      <td>40423</td>\n",
       "      <td>South</td>\n",
       "      <td>active</td>\n",
       "      <td>beverages</td>\n",
       "      <td>both</td>\n",
       "    </tr>\n",
       "    <tr>\n",
       "      <th>3</th>\n",
       "      <td>2254736</td>\n",
       "      <td>1</td>\n",
       "      <td>4</td>\n",
       "      <td>4</td>\n",
       "      <td>7</td>\n",
       "      <td>29.0</td>\n",
       "      <td>196</td>\n",
       "      <td>1</td>\n",
       "      <td>1</td>\n",
       "      <td>Soda</td>\n",
       "      <td>...</td>\n",
       "      <td>Alabama</td>\n",
       "      <td>31</td>\n",
       "      <td>2/17/2019</td>\n",
       "      <td>3</td>\n",
       "      <td>married</td>\n",
       "      <td>40423</td>\n",
       "      <td>South</td>\n",
       "      <td>active</td>\n",
       "      <td>beverages</td>\n",
       "      <td>both</td>\n",
       "    </tr>\n",
       "    <tr>\n",
       "      <th>4</th>\n",
       "      <td>431534</td>\n",
       "      <td>1</td>\n",
       "      <td>5</td>\n",
       "      <td>4</td>\n",
       "      <td>15</td>\n",
       "      <td>28.0</td>\n",
       "      <td>196</td>\n",
       "      <td>1</td>\n",
       "      <td>1</td>\n",
       "      <td>Soda</td>\n",
       "      <td>...</td>\n",
       "      <td>Alabama</td>\n",
       "      <td>31</td>\n",
       "      <td>2/17/2019</td>\n",
       "      <td>3</td>\n",
       "      <td>married</td>\n",
       "      <td>40423</td>\n",
       "      <td>South</td>\n",
       "      <td>active</td>\n",
       "      <td>beverages</td>\n",
       "      <td>both</td>\n",
       "    </tr>\n",
       "  </tbody>\n",
       "</table>\n",
       "<p>5 rows × 33 columns</p>\n",
       "</div>"
      ],
      "text/plain": [
       "   order_id user_id  order_number  orders_day_of_week  order_hour_of_day  \\\n",
       "0   2539329       1             1                   2                  8   \n",
       "1   2398795       1             2                   3                  7   \n",
       "2    473747       1             3                   3                 12   \n",
       "3   2254736       1             4                   4                  7   \n",
       "4    431534       1             5                   4                 15   \n",
       "\n",
       "   days_since_last_order  product_id  add_to_cart_order  reordered  \\\n",
       "0                    0.0         196                  1          0   \n",
       "1                   15.0         196                  1          1   \n",
       "2                   21.0         196                  1          1   \n",
       "3                   29.0         196                  1          1   \n",
       "4                   28.0         196                  1          1   \n",
       "\n",
       "  product_name  ...    state  age  date_joined number_of_dependants  \\\n",
       "0         Soda  ...  Alabama   31    2/17/2019                    3   \n",
       "1         Soda  ...  Alabama   31    2/17/2019                    3   \n",
       "2         Soda  ...  Alabama   31    2/17/2019                    3   \n",
       "3         Soda  ...  Alabama   31    2/17/2019                    3   \n",
       "4         Soda  ...  Alabama   31    2/17/2019                    3   \n",
       "\n",
       "  family_status income  region_flag user_activity  department _merge  \n",
       "0       married  40423        South        active   beverages   both  \n",
       "1       married  40423        South        active   beverages   both  \n",
       "2       married  40423        South        active   beverages   both  \n",
       "3       married  40423        South        active   beverages   both  \n",
       "4       married  40423        South        active   beverages   both  \n",
       "\n",
       "[5 rows x 33 columns]"
      ]
     },
     "execution_count": 16,
     "metadata": {},
     "output_type": "execute_result"
    }
   ],
   "source": [
    "# check new dataframe \n",
    "df_merge.head(5)"
   ]
  },
  {
   "cell_type": "code",
   "execution_count": 17,
   "id": "32a7a89e",
   "metadata": {},
   "outputs": [
    {
     "data": {
      "text/plain": [
       "_merge\n",
       "both          32404859\n",
       "left_only            0\n",
       "right_only           0\n",
       "Name: count, dtype: int64"
      ]
     },
     "execution_count": 17,
     "metadata": {},
     "output_type": "execute_result"
    }
   ],
   "source": [
    "# check for value counts\n",
    "df_merge['_merge'].value_counts()"
   ]
  },
  {
   "cell_type": "code",
   "execution_count": 18,
   "id": "89e63ccd",
   "metadata": {},
   "outputs": [
    {
     "data": {
      "text/plain": [
       "(32404859, 33)"
      ]
     },
     "execution_count": 18,
     "metadata": {},
     "output_type": "execute_result"
    }
   ],
   "source": [
    "# verify dataframe dimensions\n",
    "df_merge.shape"
   ]
  },
  {
   "cell_type": "code",
   "execution_count": 19,
   "id": "4eb17f0b",
   "metadata": {},
   "outputs": [],
   "source": [
    "# drop '_merge' column from the dataframe\n",
    "df_merge = df_merge.drop(columns = '_merge')"
   ]
  },
  {
   "cell_type": "code",
   "execution_count": 21,
   "id": "5e68c502",
   "metadata": {},
   "outputs": [
    {
     "data": {
      "text/plain": [
       "Index(['order_id', 'user_id', 'order_number', 'orders_day_of_week',\n",
       "       'order_hour_of_day', 'days_since_last_order', 'product_id',\n",
       "       'add_to_cart_order', 'reordered', 'product_name', 'aisle_id',\n",
       "       'department_id', 'prices', 'prices_range_loc', 'busiest_days',\n",
       "       'busiest_period_of_day', 'max_order', 'loyalty_flag', 'average_price',\n",
       "       'spending_flag', 'median_orders', 'order_frequency_flag', 'gender',\n",
       "       'state', 'age', 'date_joined', 'number_of_dependants', 'family_status',\n",
       "       'income', 'region_flag', 'user_activity', 'department'],\n",
       "      dtype='object')"
      ]
     },
     "execution_count": 21,
     "metadata": {},
     "output_type": "execute_result"
    }
   ],
   "source": [
    "# confirm column drop\n",
    "df_merge.columns"
   ]
  },
  {
   "cell_type": "markdown",
   "id": "84946196",
   "metadata": {},
   "source": [
    "#### 3. Customer Profile Creation"
   ]
  },
  {
   "cell_type": "code",
   "execution_count": 22,
   "id": "33f2f23d",
   "metadata": {},
   "outputs": [],
   "source": [
    "# crosstab 'number_of_dependanys' and 'family_Status' \n",
    "marital_dependants_crosstab = pd.crosstab(df_merge['number_of_dependants'],df_merge['family_status'],dropna=False)"
   ]
  },
  {
   "cell_type": "code",
   "execution_count": 23,
   "id": "ab4fdbcd",
   "metadata": {},
   "outputs": [
    {
     "data": {
      "text/html": [
       "<div>\n",
       "<style scoped>\n",
       "    .dataframe tbody tr th:only-of-type {\n",
       "        vertical-align: middle;\n",
       "    }\n",
       "\n",
       "    .dataframe tbody tr th {\n",
       "        vertical-align: top;\n",
       "    }\n",
       "\n",
       "    .dataframe thead th {\n",
       "        text-align: right;\n",
       "    }\n",
       "</style>\n",
       "<table border=\"1\" class=\"dataframe\">\n",
       "  <thead>\n",
       "    <tr style=\"text-align: right;\">\n",
       "      <th>family_status</th>\n",
       "      <th>divorced/widowed</th>\n",
       "      <th>living with parents and siblings</th>\n",
       "      <th>married</th>\n",
       "      <th>single</th>\n",
       "    </tr>\n",
       "    <tr>\n",
       "      <th>number_of_dependants</th>\n",
       "      <th></th>\n",
       "      <th></th>\n",
       "      <th></th>\n",
       "      <th></th>\n",
       "    </tr>\n",
       "  </thead>\n",
       "  <tbody>\n",
       "    <tr>\n",
       "      <th>0</th>\n",
       "      <td>2771812</td>\n",
       "      <td>0</td>\n",
       "      <td>0</td>\n",
       "      <td>5325691</td>\n",
       "    </tr>\n",
       "    <tr>\n",
       "      <th>1</th>\n",
       "      <td>0</td>\n",
       "      <td>530200</td>\n",
       "      <td>7550904</td>\n",
       "      <td>0</td>\n",
       "    </tr>\n",
       "    <tr>\n",
       "      <th>2</th>\n",
       "      <td>0</td>\n",
       "      <td>507963</td>\n",
       "      <td>7583180</td>\n",
       "      <td>0</td>\n",
       "    </tr>\n",
       "    <tr>\n",
       "      <th>3</th>\n",
       "      <td>0</td>\n",
       "      <td>512440</td>\n",
       "      <td>7622669</td>\n",
       "      <td>0</td>\n",
       "    </tr>\n",
       "  </tbody>\n",
       "</table>\n",
       "</div>"
      ],
      "text/plain": [
       "family_status         divorced/widowed  living with parents and siblings  \\\n",
       "number_of_dependants                                                       \n",
       "0                              2771812                                 0   \n",
       "1                                    0                            530200   \n",
       "2                                    0                            507963   \n",
       "3                                    0                            512440   \n",
       "\n",
       "family_status         married   single  \n",
       "number_of_dependants                    \n",
       "0                           0  5325691  \n",
       "1                     7550904        0  \n",
       "2                     7583180        0  \n",
       "3                     7622669        0  "
      ]
     },
     "execution_count": 23,
     "metadata": {},
     "output_type": "execute_result"
    }
   ],
   "source": [
    "# show new dataframe output\n",
    "marital_dependants_crosstab"
   ]
  },
  {
   "cell_type": "markdown",
   "id": "7ceb06e4",
   "metadata": {},
   "source": [
    "This crosstab confirms that 'divorced/widowed' and 'single' customers do not have dependants, while 'married' and 'living with parents and siblings' customers all contain dependants. "
   ]
  },
  {
   "cell_type": "code",
   "execution_count": 24,
   "id": "d74c65df",
   "metadata": {},
   "outputs": [],
   "source": [
    "# create 'No dependants' value for the 'dependant_status' column\n",
    "df_merge.loc[df_merge['number_of_dependants'] <= 0, 'dependant_status'] = 'No dependants'"
   ]
  },
  {
   "cell_type": "code",
   "execution_count": 25,
   "id": "4e7861a0",
   "metadata": {},
   "outputs": [],
   "source": [
    "# create 'Has dependants' value for the 'dependant_status' column\n",
    "df_merge.loc[df_merge['number_of_dependants'] > 0, 'dependant_status'] = 'Has dependants'"
   ]
  },
  {
   "cell_type": "code",
   "execution_count": 26,
   "id": "f328c62f",
   "metadata": {},
   "outputs": [
    {
     "data": {
      "text/plain": [
       "dependant_status\n",
       "Has dependants    24307356\n",
       "No dependants      8097503\n",
       "Name: count, dtype: int64"
      ]
     },
     "execution_count": 26,
     "metadata": {},
     "output_type": "execute_result"
    }
   ],
   "source": [
    "# verify new column and values\n",
    "df_merge['dependant_status'].value_counts()"
   ]
  },
  {
   "cell_type": "code",
   "execution_count": 27,
   "id": "5bd325d6",
   "metadata": {},
   "outputs": [
    {
     "data": {
      "text/plain": [
       "count    3.240486e+07\n",
       "mean     4.946527e+01\n",
       "std      1.848558e+01\n",
       "min      1.800000e+01\n",
       "25%      3.300000e+01\n",
       "50%      4.900000e+01\n",
       "75%      6.500000e+01\n",
       "max      8.100000e+01\n",
       "Name: age, dtype: float64"
      ]
     },
     "execution_count": 27,
     "metadata": {},
     "output_type": "execute_result"
    }
   ],
   "source": [
    "# verify 'age' descriptive statistics\n",
    "df_merge['age'].describe()"
   ]
  },
  {
   "cell_type": "markdown",
   "id": "4378f591",
   "metadata": {},
   "source": [
    "We can create a column for 4 different age groups based on the results from the previous function.\n",
    "18 - 33 years, 34 to 49 years, 50 to 65 years, and 66 to 75 years."
   ]
  },
  {
   "cell_type": "code",
   "execution_count": 28,
   "id": "4725c642",
   "metadata": {},
   "outputs": [],
   "source": [
    "# create the '18 to 33 years' value for the 'age_group' column\n",
    "df_merge.loc[(df_merge['age'] >= 18) & (df_merge['age'] <= 33), 'age_group'] = '18 to 33 years'"
   ]
  },
  {
   "cell_type": "code",
   "execution_count": 29,
   "id": "f222d29f",
   "metadata": {},
   "outputs": [],
   "source": [
    "# create the '34 to 49 years' value for the 'age_group' column\n",
    "df_merge.loc[(df_merge['age'] >= 34) & (df_merge['age'] <= 49), 'age_group'] = '34 to 49 years'"
   ]
  },
  {
   "cell_type": "code",
   "execution_count": 30,
   "id": "ac9d19ae",
   "metadata": {},
   "outputs": [],
   "source": [
    "# create the '50 to 65 years' value for the 'age_group' column\n",
    "df_merge.loc[(df_merge['age'] >= 50) & (df_merge['age'] <= 65), 'age_group'] = '50 to 65 years'"
   ]
  },
  {
   "cell_type": "code",
   "execution_count": 31,
   "id": "b2e46049",
   "metadata": {},
   "outputs": [],
   "source": [
    "# create the '66 to 81 years' value for the 'age_group' column\n",
    "df_merge.loc[(df_merge['age'] >= 66) & (df_merge['age'] <= 81), 'age_group'] = '66 to 81 years'"
   ]
  },
  {
   "cell_type": "code",
   "execution_count": 32,
   "id": "f76ca47e",
   "metadata": {},
   "outputs": [
    {
     "data": {
      "text/plain": [
       "age_group\n",
       "34 to 49 years    8153117\n",
       "18 to 33 years    8120312\n",
       "66 to 81 years    8088101\n",
       "50 to 65 years    8043329\n",
       "Name: count, dtype: int64"
      ]
     },
     "execution_count": 32,
     "metadata": {},
     "output_type": "execute_result"
    }
   ],
   "source": [
    "# check new column and value counts\n",
    "df_merge['age_group'].value_counts(dropna = False)"
   ]
  },
  {
   "cell_type": "code",
   "execution_count": 33,
   "id": "c9ec1c11",
   "metadata": {},
   "outputs": [
    {
     "data": {
      "text/plain": [
       "count    3.240486e+07\n",
       "mean     9.943773e+04\n",
       "std      4.305727e+04\n",
       "min      2.590300e+04\n",
       "25%      6.700400e+04\n",
       "50%      9.661800e+04\n",
       "75%      1.279120e+05\n",
       "max      5.939010e+05\n",
       "Name: income, dtype: float64"
      ]
     },
     "execution_count": 33,
     "metadata": {},
     "output_type": "execute_result"
    }
   ],
   "source": [
    "# verify 'income' descriptive statistics\n",
    "df_merge['income'].describe()"
   ]
  },
  {
   "cell_type": "markdown",
   "id": "291d5a99",
   "metadata": {},
   "source": [
    "The above results can be used to create a new flag for customers based on their income level. \n",
    "Less than 670,040  = Low Income,\n",
    "Between 670,040 and 1,279,120 = Average Income,\n",
    "More than 1,279,120 = High Income."
   ]
  },
  {
   "cell_type": "code",
   "execution_count": 34,
   "id": "cb5c40b6",
   "metadata": {},
   "outputs": [],
   "source": [
    "# create 'Low income' value for the 'income_level' column\n",
    "df_merge.loc[df_merge['income'] <= 67004, 'income_level'] = 'Low income'"
   ]
  },
  {
   "cell_type": "code",
   "execution_count": 35,
   "id": "768e5af9",
   "metadata": {},
   "outputs": [],
   "source": [
    "# create 'Average income' value for the 'income_level' column\n",
    "df_merge.loc[(df_merge['income'] > 67004) & (df_merge['income'] < 127912), 'income_level'] = 'Average income'"
   ]
  },
  {
   "cell_type": "code",
   "execution_count": 36,
   "id": "457e7c86",
   "metadata": {},
   "outputs": [],
   "source": [
    "# create 'High income' value for the 'income_level' column\n",
    "df_merge.loc[df_merge['income'] >= 127912, 'income_level'] = 'High income'"
   ]
  },
  {
   "cell_type": "code",
   "execution_count": 37,
   "id": "3315ef10",
   "metadata": {},
   "outputs": [
    {
     "data": {
      "text/plain": [
       "income_level\n",
       "Average income    16201927\n",
       "Low income         8101644\n",
       "High income        8101288\n",
       "Name: count, dtype: int64"
      ]
     },
     "execution_count": 37,
     "metadata": {},
     "output_type": "execute_result"
    }
   ],
   "source": [
    "# Verify new column and value counts\n",
    "df_merge['income_level'].value_counts(dropna = False)"
   ]
  },
  {
   "cell_type": "code",
   "execution_count": 38,
   "id": "b76bea1f",
   "metadata": {},
   "outputs": [],
   "source": [
    "# crosstab 'dependant_status' and 'age_group'\n",
    "age_family_crosstab = pd.crosstab(df_merge['family_status'],df_merge['age_group'],dropna=False)"
   ]
  },
  {
   "cell_type": "code",
   "execution_count": 39,
   "id": "a3d76435",
   "metadata": {},
   "outputs": [
    {
     "data": {
      "text/html": [
       "<div>\n",
       "<style scoped>\n",
       "    .dataframe tbody tr th:only-of-type {\n",
       "        vertical-align: middle;\n",
       "    }\n",
       "\n",
       "    .dataframe tbody tr th {\n",
       "        vertical-align: top;\n",
       "    }\n",
       "\n",
       "    .dataframe thead th {\n",
       "        text-align: right;\n",
       "    }\n",
       "</style>\n",
       "<table border=\"1\" class=\"dataframe\">\n",
       "  <thead>\n",
       "    <tr style=\"text-align: right;\">\n",
       "      <th>age_group</th>\n",
       "      <th>18 to 33 years</th>\n",
       "      <th>34 to 49 years</th>\n",
       "      <th>50 to 65 years</th>\n",
       "      <th>66 to 81 years</th>\n",
       "    </tr>\n",
       "    <tr>\n",
       "      <th>family_status</th>\n",
       "      <th></th>\n",
       "      <th></th>\n",
       "      <th></th>\n",
       "      <th></th>\n",
       "    </tr>\n",
       "  </thead>\n",
       "  <tbody>\n",
       "    <tr>\n",
       "      <th>divorced/widowed</th>\n",
       "      <td>0</td>\n",
       "      <td>0</td>\n",
       "      <td>773897</td>\n",
       "      <td>1997915</td>\n",
       "    </tr>\n",
       "    <tr>\n",
       "      <th>living with parents and siblings</th>\n",
       "      <td>1550603</td>\n",
       "      <td>0</td>\n",
       "      <td>0</td>\n",
       "      <td>0</td>\n",
       "    </tr>\n",
       "    <tr>\n",
       "      <th>married</th>\n",
       "      <td>4542396</td>\n",
       "      <td>6130902</td>\n",
       "      <td>5993269</td>\n",
       "      <td>6090186</td>\n",
       "    </tr>\n",
       "    <tr>\n",
       "      <th>single</th>\n",
       "      <td>2027313</td>\n",
       "      <td>2022215</td>\n",
       "      <td>1276163</td>\n",
       "      <td>0</td>\n",
       "    </tr>\n",
       "  </tbody>\n",
       "</table>\n",
       "</div>"
      ],
      "text/plain": [
       "age_group                         18 to 33 years  34 to 49 years  \\\n",
       "family_status                                                      \n",
       "divorced/widowed                               0               0   \n",
       "living with parents and siblings         1550603               0   \n",
       "married                                  4542396         6130902   \n",
       "single                                   2027313         2022215   \n",
       "\n",
       "age_group                         50 to 65 years  66 to 81 years  \n",
       "family_status                                                     \n",
       "divorced/widowed                          773897         1997915  \n",
       "living with parents and siblings               0               0  \n",
       "married                                  5993269         6090186  \n",
       "single                                   1276163               0  "
      ]
     },
     "execution_count": 39,
     "metadata": {},
     "output_type": "execute_result"
    }
   ],
   "source": [
    "# check output\n",
    "age_family_crosstab"
   ]
  },
  {
   "cell_type": "markdown",
   "id": "55d65928",
   "metadata": {},
   "source": [
    "There are no divorced/widowed customers within the age groups between 18 and 49 years. The only age group that is living with parent and siblings is the 18 to 33 years age group. There are no single customers within the 66 to 81 years old age group."
   ]
  },
  {
   "cell_type": "code",
   "execution_count": 40,
   "id": "0d50d9a5",
   "metadata": {},
   "outputs": [],
   "source": [
    "# create 'Married young adult' value for 'customer_profile_1' column\n",
    "df_merge.loc[(df_merge['age_group'] == '18 to 33 years') & (df_merge['family_status'] == 'married') & (df_merge['dependant_status'] == 'Has dependants'), 'customer_profile_1'] = 'Married young adult'"
   ]
  },
  {
   "cell_type": "code",
   "execution_count": 41,
   "id": "5986f205",
   "metadata": {},
   "outputs": [],
   "source": [
    "# create 'Married adult' value for 'customer_profile_1' column\n",
    "df_merge.loc[(df_merge['age_group'].isin(['34 to 49 years','50 to 65 years'])) & (df_merge['family_status'] == 'married') & (df_merge['dependant_status'] == 'Has dependants'), 'customer_profile_1'] = 'Married adult'"
   ]
  },
  {
   "cell_type": "code",
   "execution_count": 42,
   "id": "80a94cec",
   "metadata": {},
   "outputs": [],
   "source": [
    "# create 'Married old adult' value for 'customer_profile_1' column\n",
    "df_merge.loc[(df_merge['age_group'] == '66 to 81 years') & (df_merge['family_status'] == 'married') & (df_merge['dependant_status'] == 'Has dependants'), 'customer_profile_1'] = 'Married old adult'"
   ]
  },
  {
   "cell_type": "code",
   "execution_count": 43,
   "id": "7d82065f",
   "metadata": {},
   "outputs": [],
   "source": [
    "# create 'Single young adult w/ dependants' value for 'customer_profile_1' column\n",
    "df_merge.loc[(df_merge['age_group'] == '18 to 33 years') & (df_merge['family_status'] == 'living with parents and siblings') & (df_merge['dependant_status'] == 'Has dependants'), 'customer_profile_1'] = 'Single young adult w/ dependants'"
   ]
  },
  {
   "cell_type": "code",
   "execution_count": 44,
   "id": "e7ae53cc",
   "metadata": {},
   "outputs": [],
   "source": [
    "# create 'Single young adult w/o dependants' value for 'customer_profile_1' column\n",
    "df_merge.loc[(df_merge['age_group'] == '18 to 33 years') & (df_merge['family_status'] == 'single') & (df_merge['dependant_status'] == 'No dependants'), 'customer_profile_1'] = 'Single young adult w/o dependants'"
   ]
  },
  {
   "cell_type": "code",
   "execution_count": 45,
   "id": "34fa1d7f",
   "metadata": {},
   "outputs": [],
   "source": [
    "# create 'Single adult' value for 'customer_profile_1' column\n",
    "df_merge.loc[(df_merge['age_group'].isin(['34 to 49 years','50 to 65 years'])) & (df_merge['family_status'].isin(['divorced/widowed','single'])) & (df_merge['dependant_status'] == 'No dependants'), 'customer_profile_1'] = 'Single adult'"
   ]
  },
  {
   "cell_type": "code",
   "execution_count": 46,
   "id": "667333a4",
   "metadata": {},
   "outputs": [],
   "source": [
    "# create 'Single old adult' value for 'customer_profile_1' column\n",
    "df_merge.loc[(df_merge['age_group'] == '66 to 81 years') & (df_merge['family_status'].isin(['divorced/widowed','single'])) & (df_merge['dependant_status'] == 'No dependants'), 'customer_profile_1'] = 'Single old adult'"
   ]
  },
  {
   "cell_type": "code",
   "execution_count": 47,
   "id": "caf8dfd2",
   "metadata": {},
   "outputs": [
    {
     "data": {
      "text/plain": [
       "customer_profile_1\n",
       "Married adult                        12124171\n",
       "Married old adult                     6090186\n",
       "Married young adult                   4542396\n",
       "Single adult                          4072275\n",
       "Single young adult w/o dependants     2027313\n",
       "Single old adult                      1997915\n",
       "Single young adult w/ dependants      1550603\n",
       "Name: count, dtype: int64"
      ]
     },
     "execution_count": 47,
     "metadata": {},
     "output_type": "execute_result"
    }
   ],
   "source": [
    "# verify new column and value count\n",
    "df_merge['customer_profile_1'].value_counts(dropna = False)"
   ]
  },
  {
   "cell_type": "markdown",
   "id": "420e652d",
   "metadata": {},
   "source": [
    "#### 4. Customer Profile Visualization"
   ]
  },
  {
   "cell_type": "code",
   "execution_count": 48,
   "id": "4a11d668",
   "metadata": {},
   "outputs": [
    {
     "data": {
      "image/png": "[encoded data removed]",
      "text/plain": [
       "<Figure size 640x480 with 1 Axes>"
      ]
     },
     "metadata": {},
     "output_type": "display_data"
    }
   ],
   "source": [
    "# create bar chart for age group\n",
    "region_bar = df_merge['region_flag'].value_counts().plot.bar(color = ['rosybrown','lightcoral','indianred','brown'])\n",
    "plt.title('Customers by Region')\n",
    "plt.xlabel('Region')\n",
    "plt.ylabel('Frequency');"
   ]
  },
  {
   "cell_type": "code",
   "execution_count": 49,
   "id": "d5eb9e4f",
   "metadata": {},
   "outputs": [],
   "source": [
    "# export customer region flag chart as png file\n",
    "region_bar.figure.savefig(os.path.join(path, '04 Analysis','Visualizations', 'customer_region_bar.png'))"
   ]
  },
  {
   "cell_type": "code",
   "execution_count": 50,
   "id": "afef029d",
   "metadata": {},
   "outputs": [
    {
     "data": {
      "image/png": "[encoded data removed]",
      "text/plain": [
       "<Figure size 640x480 with 1 Axes>"
      ]
     },
     "metadata": {},
     "output_type": "display_data"
    }
   ],
   "source": [
    "# create bar chart for age group\n",
    "age_bar = df_merge['age_group'].value_counts().plot.bar(color = [ 'thistle','plum','violet','purple'])\n",
    "plt.title('Customer by Age Group')\n",
    "plt.xlabel('Age Group')\n",
    "plt.ylabel('Frequency');"
   ]
  },
  {
   "cell_type": "code",
   "execution_count": 51,
   "id": "712da45b",
   "metadata": {},
   "outputs": [],
   "source": [
    "# export customer age group chart as png file\n",
    "age_bar.figure.savefig(os.path.join(path, '04 Analysis','Visualizations', 'customer_age_bar.png'))"
   ]
  },
  {
   "cell_type": "code",
   "execution_count": 52,
   "id": "28f1ee6b",
   "metadata": {},
   "outputs": [
    {
     "data": {
      "image/png": "[encoded data removed]",
      "text/plain": [
       "<Figure size 640x480 with 1 Axes>"
      ]
     },
     "metadata": {},
     "output_type": "display_data"
    }
   ],
   "source": [
    "# create bar chart for income level\n",
    "income_bar = df_merge['income_level'].value_counts().plot.bar(color = ['darkseagreen','palegreen','lightgreen'])\n",
    "plt.title('Customer by Income Level')\n",
    "plt.xlabel('Income Level')\n",
    "plt.ylabel('Frequency');"
   ]
  },
  {
   "cell_type": "code",
   "execution_count": 53,
   "id": "1b54b6b3",
   "metadata": {},
   "outputs": [],
   "source": [
    "# export customer age group chart as png file\n",
    "income_bar.figure.savefig(os.path.join(path, '04 Analysis','Visualizations', 'customer_income_bar.png'))"
   ]
  },
  {
   "cell_type": "code",
   "execution_count": 54,
   "id": "81f2ee13",
   "metadata": {},
   "outputs": [
    {
     "data": {
      "image/png": "[encoded data removed]",
      "text/plain": [
       "<Figure size 640x480 with 1 Axes>"
      ]
     },
     "metadata": {},
     "output_type": "display_data"
    }
   ],
   "source": [
    "# create bar chart for customer_profile\n",
    "profile_bar = df_merge['customer_profile_1'].value_counts().plot.bar(color = [ 'powderblue','lightblue','deepskyblue','lightskyblue','skyblue','steelblue','dodgerblue'])\n",
    "plt.title('Customers by Family Profile')\n",
    "plt.xlabel('Family Profile')\n",
    "plt.ylabel('Frequency');"
   ]
  },
  {
   "cell_type": "code",
   "execution_count": 55,
   "id": "68c15971",
   "metadata": {},
   "outputs": [],
   "source": [
    "# export customer age group chart as png file\n",
    "profile_bar.figure.savefig(os.path.join(path, '04 Analysis','Visualizations', 'customer_profile_bar.png'))"
   ]
  },
  {
   "cell_type": "markdown",
   "id": "9f808e8f",
   "metadata": {},
   "source": [
    "#### 5. Customer Profile Aggregation"
   ]
  },
  {
   "cell_type": "code",
   "execution_count": 56,
   "id": "7b072153",
   "metadata": {},
   "outputs": [],
   "source": [
    "# aggregate mean, maximum, and minimum for customer age group\n",
    "age_aggregate = df_merge.groupby('age_group')[['days_since_last_order','prices']].agg(['min','max','mean'])"
   ]
  },
  {
   "cell_type": "code",
   "execution_count": 57,
   "id": "107e62d3",
   "metadata": {},
   "outputs": [
    {
     "data": {
      "text/html": [
       "<div>\n",
       "<style scoped>\n",
       "    .dataframe tbody tr th:only-of-type {\n",
       "        vertical-align: middle;\n",
       "    }\n",
       "\n",
       "    .dataframe tbody tr th {\n",
       "        vertical-align: top;\n",
       "    }\n",
       "\n",
       "    .dataframe thead tr th {\n",
       "        text-align: left;\n",
       "    }\n",
       "\n",
       "    .dataframe thead tr:last-of-type th {\n",
       "        text-align: right;\n",
       "    }\n",
       "</style>\n",
       "<table border=\"1\" class=\"dataframe\">\n",
       "  <thead>\n",
       "    <tr>\n",
       "      <th></th>\n",
       "      <th colspan=\"3\" halign=\"left\">days_since_last_order</th>\n",
       "      <th colspan=\"3\" halign=\"left\">prices</th>\n",
       "    </tr>\n",
       "    <tr>\n",
       "      <th></th>\n",
       "      <th>min</th>\n",
       "      <th>max</th>\n",
       "      <th>mean</th>\n",
       "      <th>min</th>\n",
       "      <th>max</th>\n",
       "      <th>mean</th>\n",
       "    </tr>\n",
       "    <tr>\n",
       "      <th>age_group</th>\n",
       "      <th></th>\n",
       "      <th></th>\n",
       "      <th></th>\n",
       "      <th></th>\n",
       "      <th></th>\n",
       "      <th></th>\n",
       "    </tr>\n",
       "  </thead>\n",
       "  <tbody>\n",
       "    <tr>\n",
       "      <th>18 to 33 years</th>\n",
       "      <td>0.0</td>\n",
       "      <td>30.0</td>\n",
       "      <td>10.423159</td>\n",
       "      <td>1.0</td>\n",
       "      <td>99999.0</td>\n",
       "      <td>12.088345</td>\n",
       "    </tr>\n",
       "    <tr>\n",
       "      <th>34 to 49 years</th>\n",
       "      <td>0.0</td>\n",
       "      <td>30.0</td>\n",
       "      <td>10.366645</td>\n",
       "      <td>1.0</td>\n",
       "      <td>99999.0</td>\n",
       "      <td>12.239924</td>\n",
       "    </tr>\n",
       "    <tr>\n",
       "      <th>50 to 65 years</th>\n",
       "      <td>0.0</td>\n",
       "      <td>30.0</td>\n",
       "      <td>10.410391</td>\n",
       "      <td>1.0</td>\n",
       "      <td>99999.0</td>\n",
       "      <td>11.750363</td>\n",
       "    </tr>\n",
       "    <tr>\n",
       "      <th>66 to 81 years</th>\n",
       "      <td>0.0</td>\n",
       "      <td>30.0</td>\n",
       "      <td>10.370671</td>\n",
       "      <td>1.0</td>\n",
       "      <td>99999.0</td>\n",
       "      <td>11.838480</td>\n",
       "    </tr>\n",
       "  </tbody>\n",
       "</table>\n",
       "</div>"
      ],
      "text/plain": [
       "               days_since_last_order                  prices           \\\n",
       "                                 min   max       mean    min      max   \n",
       "age_group                                                               \n",
       "18 to 33 years                   0.0  30.0  10.423159    1.0  99999.0   \n",
       "34 to 49 years                   0.0  30.0  10.366645    1.0  99999.0   \n",
       "50 to 65 years                   0.0  30.0  10.410391    1.0  99999.0   \n",
       "66 to 81 years                   0.0  30.0  10.370671    1.0  99999.0   \n",
       "\n",
       "                           \n",
       "                     mean  \n",
       "age_group                  \n",
       "18 to 33 years  12.088345  \n",
       "34 to 49 years  12.239924  \n",
       "50 to 65 years  11.750363  \n",
       "66 to 81 years  11.838480  "
      ]
     },
     "execution_count": 57,
     "metadata": {},
     "output_type": "execute_result"
    }
   ],
   "source": [
    "# check new aggregate\n",
    "age_aggregate"
   ]
  },
  {
   "cell_type": "code",
   "execution_count": 58,
   "id": "d1696324",
   "metadata": {},
   "outputs": [],
   "source": [
    "# aggregate mean, maximum, and minimum for customer income level\n",
    "income_aggregate = df_merge.groupby('income_level')[['days_since_last_order','prices']].agg(['min','max','mean'])"
   ]
  },
  {
   "cell_type": "code",
   "execution_count": 59,
   "id": "905a8e6c",
   "metadata": {},
   "outputs": [
    {
     "data": {
      "text/html": [
       "<div>\n",
       "<style scoped>\n",
       "    .dataframe tbody tr th:only-of-type {\n",
       "        vertical-align: middle;\n",
       "    }\n",
       "\n",
       "    .dataframe tbody tr th {\n",
       "        vertical-align: top;\n",
       "    }\n",
       "\n",
       "    .dataframe thead tr th {\n",
       "        text-align: left;\n",
       "    }\n",
       "\n",
       "    .dataframe thead tr:last-of-type th {\n",
       "        text-align: right;\n",
       "    }\n",
       "</style>\n",
       "<table border=\"1\" class=\"dataframe\">\n",
       "  <thead>\n",
       "    <tr>\n",
       "      <th></th>\n",
       "      <th colspan=\"3\" halign=\"left\">days_since_last_order</th>\n",
       "      <th colspan=\"3\" halign=\"left\">prices</th>\n",
       "    </tr>\n",
       "    <tr>\n",
       "      <th></th>\n",
       "      <th>min</th>\n",
       "      <th>max</th>\n",
       "      <th>mean</th>\n",
       "      <th>min</th>\n",
       "      <th>max</th>\n",
       "      <th>mean</th>\n",
       "    </tr>\n",
       "    <tr>\n",
       "      <th>income_level</th>\n",
       "      <th></th>\n",
       "      <th></th>\n",
       "      <th></th>\n",
       "      <th></th>\n",
       "      <th></th>\n",
       "      <th></th>\n",
       "    </tr>\n",
       "  </thead>\n",
       "  <tbody>\n",
       "    <tr>\n",
       "      <th>Average income</th>\n",
       "      <td>0.0</td>\n",
       "      <td>30.0</td>\n",
       "      <td>10.343852</td>\n",
       "      <td>1.0</td>\n",
       "      <td>99999.0</td>\n",
       "      <td>9.292731</td>\n",
       "    </tr>\n",
       "    <tr>\n",
       "      <th>High income</th>\n",
       "      <td>0.0</td>\n",
       "      <td>30.0</td>\n",
       "      <td>10.330269</td>\n",
       "      <td>1.0</td>\n",
       "      <td>99999.0</td>\n",
       "      <td>22.043869</td>\n",
       "    </tr>\n",
       "    <tr>\n",
       "      <th>Low income</th>\n",
       "      <td>0.0</td>\n",
       "      <td>30.0</td>\n",
       "      <td>10.552696</td>\n",
       "      <td>1.0</td>\n",
       "      <td>14900.0</td>\n",
       "      <td>7.291562</td>\n",
       "    </tr>\n",
       "  </tbody>\n",
       "</table>\n",
       "</div>"
      ],
      "text/plain": [
       "               days_since_last_order                  prices           \\\n",
       "                                 min   max       mean    min      max   \n",
       "income_level                                                            \n",
       "Average income                   0.0  30.0  10.343852    1.0  99999.0   \n",
       "High income                      0.0  30.0  10.330269    1.0  99999.0   \n",
       "Low income                       0.0  30.0  10.552696    1.0  14900.0   \n",
       "\n",
       "                           \n",
       "                     mean  \n",
       "income_level               \n",
       "Average income   9.292731  \n",
       "High income     22.043869  \n",
       "Low income       7.291562  "
      ]
     },
     "execution_count": 59,
     "metadata": {},
     "output_type": "execute_result"
    }
   ],
   "source": [
    "# check new aggregate\n",
    "income_aggregate"
   ]
  },
  {
   "cell_type": "code",
   "execution_count": 60,
   "id": "a51de91e",
   "metadata": {},
   "outputs": [],
   "source": [
    "# aggregate mean, maximum, and minimum for customer age group\n",
    "profile_aggregate = df_merge.groupby('customer_profile_1')[['days_since_last_order','prices']].agg(['min','max','mean'])"
   ]
  },
  {
   "cell_type": "code",
   "execution_count": 61,
   "id": "62527188",
   "metadata": {},
   "outputs": [
    {
     "data": {
      "text/html": [
       "<div>\n",
       "<style scoped>\n",
       "    .dataframe tbody tr th:only-of-type {\n",
       "        vertical-align: middle;\n",
       "    }\n",
       "\n",
       "    .dataframe tbody tr th {\n",
       "        vertical-align: top;\n",
       "    }\n",
       "\n",
       "    .dataframe thead tr th {\n",
       "        text-align: left;\n",
       "    }\n",
       "\n",
       "    .dataframe thead tr:last-of-type th {\n",
       "        text-align: right;\n",
       "    }\n",
       "</style>\n",
       "<table border=\"1\" class=\"dataframe\">\n",
       "  <thead>\n",
       "    <tr>\n",
       "      <th></th>\n",
       "      <th colspan=\"3\" halign=\"left\">days_since_last_order</th>\n",
       "      <th colspan=\"3\" halign=\"left\">prices</th>\n",
       "    </tr>\n",
       "    <tr>\n",
       "      <th></th>\n",
       "      <th>min</th>\n",
       "      <th>max</th>\n",
       "      <th>mean</th>\n",
       "      <th>min</th>\n",
       "      <th>max</th>\n",
       "      <th>mean</th>\n",
       "    </tr>\n",
       "    <tr>\n",
       "      <th>customer_profile_1</th>\n",
       "      <th></th>\n",
       "      <th></th>\n",
       "      <th></th>\n",
       "      <th></th>\n",
       "      <th></th>\n",
       "      <th></th>\n",
       "    </tr>\n",
       "  </thead>\n",
       "  <tbody>\n",
       "    <tr>\n",
       "      <th>Married adult</th>\n",
       "      <td>0.0</td>\n",
       "      <td>30.0</td>\n",
       "      <td>10.408174</td>\n",
       "      <td>1.0</td>\n",
       "      <td>99999.0</td>\n",
       "      <td>11.950910</td>\n",
       "    </tr>\n",
       "    <tr>\n",
       "      <th>Married old adult</th>\n",
       "      <td>0.0</td>\n",
       "      <td>30.0</td>\n",
       "      <td>10.370891</td>\n",
       "      <td>1.0</td>\n",
       "      <td>99999.0</td>\n",
       "      <td>11.800189</td>\n",
       "    </tr>\n",
       "    <tr>\n",
       "      <th>Married young adult</th>\n",
       "      <td>0.0</td>\n",
       "      <td>30.0</td>\n",
       "      <td>10.433750</td>\n",
       "      <td>1.0</td>\n",
       "      <td>99999.0</td>\n",
       "      <td>12.427274</td>\n",
       "    </tr>\n",
       "    <tr>\n",
       "      <th>Single adult</th>\n",
       "      <td>0.0</td>\n",
       "      <td>30.0</td>\n",
       "      <td>10.329407</td>\n",
       "      <td>1.0</td>\n",
       "      <td>99999.0</td>\n",
       "      <td>12.133435</td>\n",
       "    </tr>\n",
       "    <tr>\n",
       "      <th>Single old adult</th>\n",
       "      <td>0.0</td>\n",
       "      <td>30.0</td>\n",
       "      <td>10.370000</td>\n",
       "      <td>1.0</td>\n",
       "      <td>99999.0</td>\n",
       "      <td>11.955202</td>\n",
       "    </tr>\n",
       "    <tr>\n",
       "      <th>Single young adult w/ dependants</th>\n",
       "      <td>0.0</td>\n",
       "      <td>30.0</td>\n",
       "      <td>10.345887</td>\n",
       "      <td>1.0</td>\n",
       "      <td>99999.0</td>\n",
       "      <td>10.828768</td>\n",
       "    </tr>\n",
       "    <tr>\n",
       "      <th>Single young adult w/o dependants</th>\n",
       "      <td>0.0</td>\n",
       "      <td>30.0</td>\n",
       "      <td>10.458529</td>\n",
       "      <td>1.0</td>\n",
       "      <td>99999.0</td>\n",
       "      <td>12.292337</td>\n",
       "    </tr>\n",
       "  </tbody>\n",
       "</table>\n",
       "</div>"
      ],
      "text/plain": [
       "                                  days_since_last_order                   \\\n",
       "                                                    min   max       mean   \n",
       "customer_profile_1                                                         \n",
       "Married adult                                       0.0  30.0  10.408174   \n",
       "Married old adult                                   0.0  30.0  10.370891   \n",
       "Married young adult                                 0.0  30.0  10.433750   \n",
       "Single adult                                        0.0  30.0  10.329407   \n",
       "Single old adult                                    0.0  30.0  10.370000   \n",
       "Single young adult w/ dependants                    0.0  30.0  10.345887   \n",
       "Single young adult w/o dependants                   0.0  30.0  10.458529   \n",
       "\n",
       "                                  prices                      \n",
       "                                     min      max       mean  \n",
       "customer_profile_1                                            \n",
       "Married adult                        1.0  99999.0  11.950910  \n",
       "Married old adult                    1.0  99999.0  11.800189  \n",
       "Married young adult                  1.0  99999.0  12.427274  \n",
       "Single adult                         1.0  99999.0  12.133435  \n",
       "Single old adult                     1.0  99999.0  11.955202  \n",
       "Single young adult w/ dependants     1.0  99999.0  10.828768  \n",
       "Single young adult w/o dependants    1.0  99999.0  12.292337  "
      ]
     },
     "execution_count": 61,
     "metadata": {},
     "output_type": "execute_result"
    }
   ],
   "source": [
    "# check new aggregate\n",
    "profile_aggregate"
   ]
  },
  {
   "cell_type": "code",
   "execution_count": 62,
   "id": "8cf284b5",
   "metadata": {},
   "outputs": [],
   "source": [
    "# aggregate mean, maximum, and minimum for customer age group\n",
    "dependant_aggregate = df_merge.groupby('dependant_status')[['days_since_last_order','prices']].agg(['min','max','mean'])"
   ]
  },
  {
   "cell_type": "code",
   "execution_count": 63,
   "id": "6b1559a5",
   "metadata": {},
   "outputs": [
    {
     "data": {
      "text/html": [
       "<div>\n",
       "<style scoped>\n",
       "    .dataframe tbody tr th:only-of-type {\n",
       "        vertical-align: middle;\n",
       "    }\n",
       "\n",
       "    .dataframe tbody tr th {\n",
       "        vertical-align: top;\n",
       "    }\n",
       "\n",
       "    .dataframe thead tr th {\n",
       "        text-align: left;\n",
       "    }\n",
       "\n",
       "    .dataframe thead tr:last-of-type th {\n",
       "        text-align: right;\n",
       "    }\n",
       "</style>\n",
       "<table border=\"1\" class=\"dataframe\">\n",
       "  <thead>\n",
       "    <tr>\n",
       "      <th></th>\n",
       "      <th colspan=\"3\" halign=\"left\">days_since_last_order</th>\n",
       "      <th colspan=\"3\" halign=\"left\">prices</th>\n",
       "    </tr>\n",
       "    <tr>\n",
       "      <th></th>\n",
       "      <th>min</th>\n",
       "      <th>max</th>\n",
       "      <th>mean</th>\n",
       "      <th>min</th>\n",
       "      <th>max</th>\n",
       "      <th>mean</th>\n",
       "    </tr>\n",
       "    <tr>\n",
       "      <th>dependant_status</th>\n",
       "      <th></th>\n",
       "      <th></th>\n",
       "      <th></th>\n",
       "      <th></th>\n",
       "      <th></th>\n",
       "      <th></th>\n",
       "    </tr>\n",
       "  </thead>\n",
       "  <tbody>\n",
       "    <tr>\n",
       "      <th>Has dependants</th>\n",
       "      <td>0.0</td>\n",
       "      <td>30.0</td>\n",
       "      <td>10.399639</td>\n",
       "      <td>1.0</td>\n",
       "      <td>99999.0</td>\n",
       "      <td>11.930584</td>\n",
       "    </tr>\n",
       "    <tr>\n",
       "      <th>No dependants</th>\n",
       "      <td>0.0</td>\n",
       "      <td>30.0</td>\n",
       "      <td>10.371750</td>\n",
       "      <td>1.0</td>\n",
       "      <td>99999.0</td>\n",
       "      <td>12.129243</td>\n",
       "    </tr>\n",
       "  </tbody>\n",
       "</table>\n",
       "</div>"
      ],
      "text/plain": [
       "                 days_since_last_order                  prices           \\\n",
       "                                   min   max       mean    min      max   \n",
       "dependant_status                                                          \n",
       "Has dependants                     0.0  30.0  10.399639    1.0  99999.0   \n",
       "No dependants                      0.0  30.0  10.371750    1.0  99999.0   \n",
       "\n",
       "                             \n",
       "                       mean  \n",
       "dependant_status             \n",
       "Has dependants    11.930584  \n",
       "No dependants     12.129243  "
      ]
     },
     "execution_count": 63,
     "metadata": {},
     "output_type": "execute_result"
    }
   ],
   "source": [
    "# check new aggregate\n",
    "dependant_aggregate"
   ]
  },
  {
   "cell_type": "code",
   "execution_count": 64,
   "id": "592f8880",
   "metadata": {},
   "outputs": [],
   "source": [
    "# aggregate mean, maximum, and minimum for customer age group\n",
    "income_family_profile = pd.crosstab(df_merge['customer_profile_1'],df_merge['income_level'],dropna=False)"
   ]
  },
  {
   "cell_type": "code",
   "execution_count": 98,
   "id": "077c9ea6",
   "metadata": {},
   "outputs": [
    {
     "data": {
      "text/html": [
       "<div>\n",
       "<style scoped>\n",
       "    .dataframe tbody tr th:only-of-type {\n",
       "        vertical-align: middle;\n",
       "    }\n",
       "\n",
       "    .dataframe tbody tr th {\n",
       "        vertical-align: top;\n",
       "    }\n",
       "\n",
       "    .dataframe thead th {\n",
       "        text-align: right;\n",
       "    }\n",
       "</style>\n",
       "<table border=\"1\" class=\"dataframe\">\n",
       "  <thead>\n",
       "    <tr style=\"text-align: right;\">\n",
       "      <th>income_level</th>\n",
       "      <th>Average income</th>\n",
       "      <th>High income</th>\n",
       "      <th>Low income</th>\n",
       "    </tr>\n",
       "    <tr>\n",
       "      <th>customer_profile_1</th>\n",
       "      <th></th>\n",
       "      <th></th>\n",
       "      <th></th>\n",
       "    </tr>\n",
       "  </thead>\n",
       "  <tbody>\n",
       "    <tr>\n",
       "      <th>Married adult</th>\n",
       "      <td>5991443</td>\n",
       "      <td>3660618</td>\n",
       "      <td>2472110</td>\n",
       "    </tr>\n",
       "    <tr>\n",
       "      <th>Married old adult</th>\n",
       "      <td>2945323</td>\n",
       "      <td>2339648</td>\n",
       "      <td>805215</td>\n",
       "    </tr>\n",
       "    <tr>\n",
       "      <th>Married young adult</th>\n",
       "      <td>2383753</td>\n",
       "      <td>49720</td>\n",
       "      <td>2108923</td>\n",
       "    </tr>\n",
       "    <tr>\n",
       "      <th>Single adult</th>\n",
       "      <td>1985295</td>\n",
       "      <td>1253128</td>\n",
       "      <td>833852</td>\n",
       "    </tr>\n",
       "    <tr>\n",
       "      <th>Single old adult</th>\n",
       "      <td>986576</td>\n",
       "      <td>759344</td>\n",
       "      <td>251995</td>\n",
       "    </tr>\n",
       "    <tr>\n",
       "      <th>Single young adult w/ dependants</th>\n",
       "      <td>839116</td>\n",
       "      <td>17948</td>\n",
       "      <td>693539</td>\n",
       "    </tr>\n",
       "    <tr>\n",
       "      <th>Single young adult w/o dependants</th>\n",
       "      <td>1070421</td>\n",
       "      <td>20882</td>\n",
       "      <td>936010</td>\n",
       "    </tr>\n",
       "  </tbody>\n",
       "</table>\n",
       "</div>"
      ],
      "text/plain": [
       "income_level                       Average income  High income  Low income\n",
       "customer_profile_1                                                        \n",
       "Married adult                             5991443      3660618     2472110\n",
       "Married old adult                         2945323      2339648      805215\n",
       "Married young adult                       2383753        49720     2108923\n",
       "Single adult                              1985295      1253128      833852\n",
       "Single old adult                           986576       759344      251995\n",
       "Single young adult w/ dependants           839116        17948      693539\n",
       "Single young adult w/o dependants         1070421        20882      936010"
      ]
     },
     "execution_count": 98,
     "metadata": {},
     "output_type": "execute_result"
    }
   ],
   "source": [
    "# check new aggregate\n",
    "income_family_profile"
   ]
  },
  {
   "cell_type": "code",
   "execution_count": 66,
   "id": "9dfeb8c1",
   "metadata": {},
   "outputs": [],
   "source": [
    "# create a crosstab for 'frequency_flag' and 'age_group'\n",
    "age_group_frequency = pd.crosstab(df_merge['order_frequency_flag'], df_merge['age_group'], dropna = False)\n",
    "   "
   ]
  },
  {
   "cell_type": "code",
   "execution_count": 99,
   "id": "44147387",
   "metadata": {},
   "outputs": [
    {
     "data": {
      "text/html": [
       "<div>\n",
       "<style scoped>\n",
       "    .dataframe tbody tr th:only-of-type {\n",
       "        vertical-align: middle;\n",
       "    }\n",
       "\n",
       "    .dataframe tbody tr th {\n",
       "        vertical-align: top;\n",
       "    }\n",
       "\n",
       "    .dataframe thead th {\n",
       "        text-align: right;\n",
       "    }\n",
       "</style>\n",
       "<table border=\"1\" class=\"dataframe\">\n",
       "  <thead>\n",
       "    <tr style=\"text-align: right;\">\n",
       "      <th>age_group</th>\n",
       "      <th>18 to 33 years</th>\n",
       "      <th>34 to 49 years</th>\n",
       "      <th>50 to 65 years</th>\n",
       "      <th>66 to 81 years</th>\n",
       "    </tr>\n",
       "    <tr>\n",
       "      <th>order_frequency_flag</th>\n",
       "      <th></th>\n",
       "      <th></th>\n",
       "      <th></th>\n",
       "      <th></th>\n",
       "    </tr>\n",
       "  </thead>\n",
       "  <tbody>\n",
       "    <tr>\n",
       "      <th>Frequent customer</th>\n",
       "      <td>5701370</td>\n",
       "      <td>5737562</td>\n",
       "      <td>5652586</td>\n",
       "      <td>5705141</td>\n",
       "    </tr>\n",
       "    <tr>\n",
       "      <th>Non-frequent customer</th>\n",
       "      <td>677191</td>\n",
       "      <td>679423</td>\n",
       "      <td>668067</td>\n",
       "      <td>662047</td>\n",
       "    </tr>\n",
       "    <tr>\n",
       "      <th>Regular customer</th>\n",
       "      <td>1741751</td>\n",
       "      <td>1736132</td>\n",
       "      <td>1722676</td>\n",
       "      <td>1720913</td>\n",
       "    </tr>\n",
       "  </tbody>\n",
       "</table>\n",
       "</div>"
      ],
      "text/plain": [
       "age_group              18 to 33 years  34 to 49 years  50 to 65 years  \\\n",
       "order_frequency_flag                                                    \n",
       "Frequent customer             5701370         5737562         5652586   \n",
       "Non-frequent customer          677191          679423          668067   \n",
       "Regular customer              1741751         1736132         1722676   \n",
       "\n",
       "age_group              66 to 81 years  \n",
       "order_frequency_flag                   \n",
       "Frequent customer             5705141  \n",
       "Non-frequent customer          662047  \n",
       "Regular customer              1720913  "
      ]
     },
     "execution_count": 99,
     "metadata": {},
     "output_type": "execute_result"
    }
   ],
   "source": [
    "# check new crosstab\n",
    "age_group_frequency"
   ]
  },
  {
   "cell_type": "markdown",
   "id": "2ee09ce3",
   "metadata": {},
   "source": [
    "#### 6. Customer Profile by Region and Department"
   ]
  },
  {
   "cell_type": "code",
   "execution_count": 100,
   "id": "8bec6b03",
   "metadata": {},
   "outputs": [],
   "source": [
    "# group data by 'age_group' and 'region_flag'\n",
    "age_region = df_merge.groupby(['region_flag','age_group']).size().unstack()"
   ]
  },
  {
   "cell_type": "code",
   "execution_count": 101,
   "id": "dbd50673",
   "metadata": {},
   "outputs": [
    {
     "data": {
      "text/html": [
       "<div>\n",
       "<style scoped>\n",
       "    .dataframe tbody tr th:only-of-type {\n",
       "        vertical-align: middle;\n",
       "    }\n",
       "\n",
       "    .dataframe tbody tr th {\n",
       "        vertical-align: top;\n",
       "    }\n",
       "\n",
       "    .dataframe thead th {\n",
       "        text-align: right;\n",
       "    }\n",
       "</style>\n",
       "<table border=\"1\" class=\"dataframe\">\n",
       "  <thead>\n",
       "    <tr style=\"text-align: right;\">\n",
       "      <th>age_group</th>\n",
       "      <th>18 to 33 years</th>\n",
       "      <th>34 to 49 years</th>\n",
       "      <th>50 to 65 years</th>\n",
       "      <th>66 to 81 years</th>\n",
       "    </tr>\n",
       "    <tr>\n",
       "      <th>region_flag</th>\n",
       "      <th></th>\n",
       "      <th></th>\n",
       "      <th></th>\n",
       "      <th></th>\n",
       "    </tr>\n",
       "  </thead>\n",
       "  <tbody>\n",
       "    <tr>\n",
       "      <th>Midwest</th>\n",
       "      <td>1889049</td>\n",
       "      <td>1939142</td>\n",
       "      <td>1887497</td>\n",
       "      <td>1881637</td>\n",
       "    </tr>\n",
       "    <tr>\n",
       "      <th>Northeast</th>\n",
       "      <td>1431237</td>\n",
       "      <td>1428325</td>\n",
       "      <td>1404222</td>\n",
       "      <td>1458952</td>\n",
       "    </tr>\n",
       "    <tr>\n",
       "      <th>South</th>\n",
       "      <td>2737766</td>\n",
       "      <td>2714981</td>\n",
       "      <td>2669718</td>\n",
       "      <td>2669420</td>\n",
       "    </tr>\n",
       "    <tr>\n",
       "      <th>West</th>\n",
       "      <td>2062260</td>\n",
       "      <td>2070669</td>\n",
       "      <td>2081892</td>\n",
       "      <td>2078092</td>\n",
       "    </tr>\n",
       "  </tbody>\n",
       "</table>\n",
       "</div>"
      ],
      "text/plain": [
       "age_group    18 to 33 years  34 to 49 years  50 to 65 years  66 to 81 years\n",
       "region_flag                                                                \n",
       "Midwest             1889049         1939142         1887497         1881637\n",
       "Northeast           1431237         1428325         1404222         1458952\n",
       "South               2737766         2714981         2669718         2669420\n",
       "West                2062260         2070669         2081892         2078092"
      ]
     },
     "execution_count": 101,
     "metadata": {},
     "output_type": "execute_result"
    }
   ],
   "source": [
    "# check new dataframe\n",
    "age_region"
   ]
  },
  {
   "cell_type": "code",
   "execution_count": 102,
   "id": "f2b528e4",
   "metadata": {},
   "outputs": [
    {
     "data": {
      "text/plain": [
       "<matplotlib.legend.Legend at 0x2737d0ac710>"
      ]
     },
     "execution_count": 102,
     "metadata": {},
     "output_type": "execute_result"
    },
    {
     "data": {
      "image/png": "[encoded data removed]",
      "text/plain": [
       "<Figure size 640x480 with 1 Axes>"
      ]
     },
     "metadata": {},
     "output_type": "display_data"
    }
   ],
   "source": [
    "# create horizontal bar graph for 'age_region_bar'\n",
    "age_region_bar = age_region.plot.bar(color = [ 'thistle','plum','violet','purple'], stacked = False, title = 'Customer Age Group by Region', xlabel = 'Region', ylabel = 'Frequency')\n",
    "plt.legend(loc='center left', bbox_to_anchor=(1, 0.5))"
   ]
  },
  {
   "cell_type": "code",
   "execution_count": 103,
   "id": "b9024e1f",
   "metadata": {},
   "outputs": [],
   "source": [
    "# export 'age_region_bar' as png file\n",
    "age_region_bar.figure.savefig(os.path.join(path, '04 Analysis','Visualizations', 'customer_age_region_bar.png'))"
   ]
  },
  {
   "cell_type": "code",
   "execution_count": 104,
   "id": "29a529a1",
   "metadata": {},
   "outputs": [],
   "source": [
    "# group data by 'income_level' and 'region_flag'\n",
    "income_region = df_merge.groupby(['region_flag','income_level']).size().unstack()"
   ]
  },
  {
   "cell_type": "code",
   "execution_count": 105,
   "id": "6c0bdf99",
   "metadata": {},
   "outputs": [
    {
     "data": {
      "text/html": [
       "<div>\n",
       "<style scoped>\n",
       "    .dataframe tbody tr th:only-of-type {\n",
       "        vertical-align: middle;\n",
       "    }\n",
       "\n",
       "    .dataframe tbody tr th {\n",
       "        vertical-align: top;\n",
       "    }\n",
       "\n",
       "    .dataframe thead th {\n",
       "        text-align: right;\n",
       "    }\n",
       "</style>\n",
       "<table border=\"1\" class=\"dataframe\">\n",
       "  <thead>\n",
       "    <tr style=\"text-align: right;\">\n",
       "      <th>income_level</th>\n",
       "      <th>Average income</th>\n",
       "      <th>High income</th>\n",
       "      <th>Low income</th>\n",
       "    </tr>\n",
       "    <tr>\n",
       "      <th>region_flag</th>\n",
       "      <th></th>\n",
       "      <th></th>\n",
       "      <th></th>\n",
       "    </tr>\n",
       "  </thead>\n",
       "  <tbody>\n",
       "    <tr>\n",
       "      <th>Midwest</th>\n",
       "      <td>3792849</td>\n",
       "      <td>1928043</td>\n",
       "      <td>1876433</td>\n",
       "    </tr>\n",
       "    <tr>\n",
       "      <th>Northeast</th>\n",
       "      <td>2852421</td>\n",
       "      <td>1440856</td>\n",
       "      <td>1429459</td>\n",
       "    </tr>\n",
       "    <tr>\n",
       "      <th>South</th>\n",
       "      <td>5409399</td>\n",
       "      <td>2666255</td>\n",
       "      <td>2716231</td>\n",
       "    </tr>\n",
       "    <tr>\n",
       "      <th>West</th>\n",
       "      <td>4147258</td>\n",
       "      <td>2066134</td>\n",
       "      <td>2079521</td>\n",
       "    </tr>\n",
       "  </tbody>\n",
       "</table>\n",
       "</div>"
      ],
      "text/plain": [
       "income_level  Average income  High income  Low income\n",
       "region_flag                                          \n",
       "Midwest              3792849      1928043     1876433\n",
       "Northeast            2852421      1440856     1429459\n",
       "South                5409399      2666255     2716231\n",
       "West                 4147258      2066134     2079521"
      ]
     },
     "execution_count": 105,
     "metadata": {},
     "output_type": "execute_result"
    }
   ],
   "source": [
    "# check new dataframe\n",
    "income_region"
   ]
  },
  {
   "cell_type": "code",
   "execution_count": 106,
   "id": "8923099d",
   "metadata": {},
   "outputs": [
    {
     "data": {
      "text/plain": [
       "<matplotlib.legend.Legend at 0x27406357d90>"
      ]
     },
     "execution_count": 106,
     "metadata": {},
     "output_type": "execute_result"
    },
    {
     "data": {
      "image/png": "[encoded data removed]",
      "text/plain": [
       "<Figure size 640x480 with 1 Axes>"
      ]
     },
     "metadata": {},
     "output_type": "display_data"
    }
   ],
   "source": [
    "# create bar graph for 'income_region'\n",
    "income_region_bar = income_region.plot.bar(color = ['darkseagreen','palegreen','lightgreen'], stacked = False, title = 'Customer Income Level by Region', xlabel = 'Region', ylabel = 'Frequency')\n",
    "plt.legend(loc='center left', bbox_to_anchor=(1, 0.5))"
   ]
  },
  {
   "cell_type": "code",
   "execution_count": 107,
   "id": "399230c4",
   "metadata": {},
   "outputs": [],
   "source": [
    "# export 'income_region_bar' as png file\n",
    "income_region_bar.figure.savefig(os.path.join(path, '04 Analysis','Visualizations', 'customer_income_region_bar.png'))"
   ]
  },
  {
   "cell_type": "code",
   "execution_count": 108,
   "id": "fcff7bd1",
   "metadata": {},
   "outputs": [],
   "source": [
    "# group data by 'customer_profile_1' and 'region_flag'\n",
    "customer_profile_region = df_merge.groupby(['region_flag','customer_profile_1']).size().unstack()"
   ]
  },
  {
   "cell_type": "code",
   "execution_count": 109,
   "id": "3412c3b1",
   "metadata": {},
   "outputs": [
    {
     "data": {
      "text/html": [
       "<div>\n",
       "<style scoped>\n",
       "    .dataframe tbody tr th:only-of-type {\n",
       "        vertical-align: middle;\n",
       "    }\n",
       "\n",
       "    .dataframe tbody tr th {\n",
       "        vertical-align: top;\n",
       "    }\n",
       "\n",
       "    .dataframe thead th {\n",
       "        text-align: right;\n",
       "    }\n",
       "</style>\n",
       "<table border=\"1\" class=\"dataframe\">\n",
       "  <thead>\n",
       "    <tr style=\"text-align: right;\">\n",
       "      <th>customer_profile_1</th>\n",
       "      <th>Married adult</th>\n",
       "      <th>Married old adult</th>\n",
       "      <th>Married young adult</th>\n",
       "      <th>Single adult</th>\n",
       "      <th>Single old adult</th>\n",
       "      <th>Single young adult w/ dependants</th>\n",
       "      <th>Single young adult w/o dependants</th>\n",
       "    </tr>\n",
       "    <tr>\n",
       "      <th>region_flag</th>\n",
       "      <th></th>\n",
       "      <th></th>\n",
       "      <th></th>\n",
       "      <th></th>\n",
       "      <th></th>\n",
       "      <th></th>\n",
       "      <th></th>\n",
       "    </tr>\n",
       "  </thead>\n",
       "  <tbody>\n",
       "    <tr>\n",
       "      <th>Midwest</th>\n",
       "      <td>2849887</td>\n",
       "      <td>1411955</td>\n",
       "      <td>1063766</td>\n",
       "      <td>976752</td>\n",
       "      <td>469682</td>\n",
       "      <td>366517</td>\n",
       "      <td>458766</td>\n",
       "    </tr>\n",
       "    <tr>\n",
       "      <th>Northeast</th>\n",
       "      <td>2157190</td>\n",
       "      <td>1086686</td>\n",
       "      <td>792445</td>\n",
       "      <td>675357</td>\n",
       "      <td>372266</td>\n",
       "      <td>268114</td>\n",
       "      <td>370678</td>\n",
       "    </tr>\n",
       "    <tr>\n",
       "      <th>South</th>\n",
       "      <td>4015751</td>\n",
       "      <td>2025958</td>\n",
       "      <td>1518933</td>\n",
       "      <td>1368948</td>\n",
       "      <td>643462</td>\n",
       "      <td>529584</td>\n",
       "      <td>689249</td>\n",
       "    </tr>\n",
       "    <tr>\n",
       "      <th>West</th>\n",
       "      <td>3101343</td>\n",
       "      <td>1565587</td>\n",
       "      <td>1167252</td>\n",
       "      <td>1051218</td>\n",
       "      <td>512505</td>\n",
       "      <td>386388</td>\n",
       "      <td>508620</td>\n",
       "    </tr>\n",
       "  </tbody>\n",
       "</table>\n",
       "</div>"
      ],
      "text/plain": [
       "customer_profile_1  Married adult  Married old adult  Married young adult  \\\n",
       "region_flag                                                                 \n",
       "Midwest                   2849887            1411955              1063766   \n",
       "Northeast                 2157190            1086686               792445   \n",
       "South                     4015751            2025958              1518933   \n",
       "West                      3101343            1565587              1167252   \n",
       "\n",
       "customer_profile_1  Single adult  Single old adult  \\\n",
       "region_flag                                          \n",
       "Midwest                   976752            469682   \n",
       "Northeast                 675357            372266   \n",
       "South                    1368948            643462   \n",
       "West                     1051218            512505   \n",
       "\n",
       "customer_profile_1  Single young adult w/ dependants  \\\n",
       "region_flag                                            \n",
       "Midwest                                       366517   \n",
       "Northeast                                     268114   \n",
       "South                                         529584   \n",
       "West                                          386388   \n",
       "\n",
       "customer_profile_1  Single young adult w/o dependants  \n",
       "region_flag                                            \n",
       "Midwest                                        458766  \n",
       "Northeast                                      370678  \n",
       "South                                          689249  \n",
       "West                                           508620  "
      ]
     },
     "execution_count": 109,
     "metadata": {},
     "output_type": "execute_result"
    }
   ],
   "source": [
    "# check new dataframe\n",
    "customer_profile_region"
   ]
  },
  {
   "cell_type": "code",
   "execution_count": 110,
   "id": "9082143e",
   "metadata": {
    "scrolled": false
   },
   "outputs": [
    {
     "data": {
      "text/plain": [
       "<matplotlib.legend.Legend at 0x271f95d8550>"
      ]
     },
     "execution_count": 110,
     "metadata": {},
     "output_type": "execute_result"
    },
    {
     "data": {
      "image/png": "[encoded data removed]",
      "text/plain": [
       "<Figure size 640x480 with 1 Axes>"
      ]
     },
     "metadata": {},
     "output_type": "display_data"
    }
   ],
   "source": [
    "# create bar graph for 'customer_profile_region'\n",
    "customer_profile_region_bar = customer_profile_region.plot.bar(color = ['darkturquoise','cadetblue','lightblue','deepskyblue','skyblue','steelblue','dodgerblue'], stacked = True, title = 'Customer Family Profile by Region', xlabel = 'Region', ylabel = 'Frequency')\n",
    "plt.legend(loc='center left', bbox_to_anchor=(1, 0.5))\n"
   ]
  },
  {
   "cell_type": "code",
   "execution_count": 111,
   "id": "800ac27f",
   "metadata": {},
   "outputs": [],
   "source": [
    "# export 'customer_profile_region_bar' as png file\n",
    "customer_profile_region_bar.figure.savefig(os.path.join(path, '04 Analysis','Visualizations', 'customer_profile_region_bar.png'))"
   ]
  },
  {
   "cell_type": "code",
   "execution_count": 112,
   "id": "6a5a3587",
   "metadata": {},
   "outputs": [],
   "source": [
    "# group data by 'department' and 'region_flag'\n",
    "region_department = df_merge.groupby(['department','region_flag']).size().unstack()"
   ]
  },
  {
   "cell_type": "code",
   "execution_count": 113,
   "id": "621bf8b9",
   "metadata": {},
   "outputs": [
    {
     "data": {
      "text/html": [
       "<div>\n",
       "<style scoped>\n",
       "    .dataframe tbody tr th:only-of-type {\n",
       "        vertical-align: middle;\n",
       "    }\n",
       "\n",
       "    .dataframe tbody tr th {\n",
       "        vertical-align: top;\n",
       "    }\n",
       "\n",
       "    .dataframe thead th {\n",
       "        text-align: right;\n",
       "    }\n",
       "</style>\n",
       "<table border=\"1\" class=\"dataframe\">\n",
       "  <thead>\n",
       "    <tr style=\"text-align: right;\">\n",
       "      <th>region_flag</th>\n",
       "      <th>Midwest</th>\n",
       "      <th>Northeast</th>\n",
       "      <th>South</th>\n",
       "      <th>West</th>\n",
       "    </tr>\n",
       "    <tr>\n",
       "      <th>department</th>\n",
       "      <th></th>\n",
       "      <th></th>\n",
       "      <th></th>\n",
       "      <th></th>\n",
       "    </tr>\n",
       "  </thead>\n",
       "  <tbody>\n",
       "    <tr>\n",
       "      <th>alcohol</th>\n",
       "      <td>36186</td>\n",
       "      <td>26542</td>\n",
       "      <td>51624</td>\n",
       "      <td>39344</td>\n",
       "    </tr>\n",
       "    <tr>\n",
       "      <th>babies</th>\n",
       "      <td>98983</td>\n",
       "      <td>75139</td>\n",
       "      <td>143654</td>\n",
       "      <td>106026</td>\n",
       "    </tr>\n",
       "    <tr>\n",
       "      <th>bakery</th>\n",
       "      <td>273869</td>\n",
       "      <td>208599</td>\n",
       "      <td>388815</td>\n",
       "      <td>301145</td>\n",
       "    </tr>\n",
       "    <tr>\n",
       "      <th>beverages</th>\n",
       "      <td>625574</td>\n",
       "      <td>483418</td>\n",
       "      <td>898940</td>\n",
       "      <td>680191</td>\n",
       "    </tr>\n",
       "    <tr>\n",
       "      <th>breakfast</th>\n",
       "      <td>163551</td>\n",
       "      <td>123574</td>\n",
       "      <td>234251</td>\n",
       "      <td>181657</td>\n",
       "    </tr>\n",
       "    <tr>\n",
       "      <th>bulk</th>\n",
       "      <td>8193</td>\n",
       "      <td>5802</td>\n",
       "      <td>11533</td>\n",
       "      <td>9045</td>\n",
       "    </tr>\n",
       "    <tr>\n",
       "      <th>canned goods</th>\n",
       "      <td>250702</td>\n",
       "      <td>186755</td>\n",
       "      <td>356015</td>\n",
       "      <td>274586</td>\n",
       "    </tr>\n",
       "    <tr>\n",
       "      <th>dairy eggs</th>\n",
       "      <td>1264223</td>\n",
       "      <td>954026</td>\n",
       "      <td>1796969</td>\n",
       "      <td>1383529</td>\n",
       "    </tr>\n",
       "    <tr>\n",
       "      <th>deli</th>\n",
       "      <td>245678</td>\n",
       "      <td>186817</td>\n",
       "      <td>349419</td>\n",
       "      <td>269335</td>\n",
       "    </tr>\n",
       "    <tr>\n",
       "      <th>dry goods pasta</th>\n",
       "      <td>203769</td>\n",
       "      <td>151816</td>\n",
       "      <td>287444</td>\n",
       "      <td>223598</td>\n",
       "    </tr>\n",
       "    <tr>\n",
       "      <th>frozen</th>\n",
       "      <td>524096</td>\n",
       "      <td>390918</td>\n",
       "      <td>747900</td>\n",
       "      <td>571829</td>\n",
       "    </tr>\n",
       "    <tr>\n",
       "      <th>household</th>\n",
       "      <td>175824</td>\n",
       "      <td>131485</td>\n",
       "      <td>243070</td>\n",
       "      <td>188287</td>\n",
       "    </tr>\n",
       "    <tr>\n",
       "      <th>international</th>\n",
       "      <td>63736</td>\n",
       "      <td>46891</td>\n",
       "      <td>89142</td>\n",
       "      <td>69484</td>\n",
       "    </tr>\n",
       "    <tr>\n",
       "      <th>meat seafood</th>\n",
       "      <td>166129</td>\n",
       "      <td>124620</td>\n",
       "      <td>235752</td>\n",
       "      <td>182426</td>\n",
       "    </tr>\n",
       "    <tr>\n",
       "      <th>missing</th>\n",
       "      <td>16535</td>\n",
       "      <td>12374</td>\n",
       "      <td>23193</td>\n",
       "      <td>17043</td>\n",
       "    </tr>\n",
       "    <tr>\n",
       "      <th>other</th>\n",
       "      <td>8420</td>\n",
       "      <td>6585</td>\n",
       "      <td>12212</td>\n",
       "      <td>9074</td>\n",
       "    </tr>\n",
       "    <tr>\n",
       "      <th>pantry</th>\n",
       "      <td>442101</td>\n",
       "      <td>329445</td>\n",
       "      <td>622436</td>\n",
       "      <td>481387</td>\n",
       "    </tr>\n",
       "    <tr>\n",
       "      <th>personal care</th>\n",
       "      <td>105749</td>\n",
       "      <td>78815</td>\n",
       "      <td>150350</td>\n",
       "      <td>112658</td>\n",
       "    </tr>\n",
       "    <tr>\n",
       "      <th>pets</th>\n",
       "      <td>22355</td>\n",
       "      <td>18601</td>\n",
       "      <td>31269</td>\n",
       "      <td>25491</td>\n",
       "    </tr>\n",
       "    <tr>\n",
       "      <th>produce</th>\n",
       "      <td>2227937</td>\n",
       "      <td>1665839</td>\n",
       "      <td>3160551</td>\n",
       "      <td>2424964</td>\n",
       "    </tr>\n",
       "    <tr>\n",
       "      <th>snacks</th>\n",
       "      <td>673715</td>\n",
       "      <td>514675</td>\n",
       "      <td>957346</td>\n",
       "      <td>741814</td>\n",
       "    </tr>\n",
       "  </tbody>\n",
       "</table>\n",
       "</div>"
      ],
      "text/plain": [
       "region_flag      Midwest  Northeast    South     West\n",
       "department                                           \n",
       "alcohol            36186      26542    51624    39344\n",
       "babies             98983      75139   143654   106026\n",
       "bakery            273869     208599   388815   301145\n",
       "beverages         625574     483418   898940   680191\n",
       "breakfast         163551     123574   234251   181657\n",
       "bulk                8193       5802    11533     9045\n",
       "canned goods      250702     186755   356015   274586\n",
       "dairy eggs       1264223     954026  1796969  1383529\n",
       "deli              245678     186817   349419   269335\n",
       "dry goods pasta   203769     151816   287444   223598\n",
       "frozen            524096     390918   747900   571829\n",
       "household         175824     131485   243070   188287\n",
       "international      63736      46891    89142    69484\n",
       "meat seafood      166129     124620   235752   182426\n",
       "missing            16535      12374    23193    17043\n",
       "other               8420       6585    12212     9074\n",
       "pantry            442101     329445   622436   481387\n",
       "personal care     105749      78815   150350   112658\n",
       "pets               22355      18601    31269    25491\n",
       "produce          2227937    1665839  3160551  2424964\n",
       "snacks            673715     514675   957346   741814"
      ]
     },
     "execution_count": 113,
     "metadata": {},
     "output_type": "execute_result"
    }
   ],
   "source": [
    "# check new dataframe\n",
    "region_department"
   ]
  },
  {
   "cell_type": "code",
   "execution_count": 114,
   "id": "0a0b803c",
   "metadata": {},
   "outputs": [
    {
     "data": {
      "text/plain": [
       "<matplotlib.legend.Legend at 0x271f98a8150>"
      ]
     },
     "execution_count": 114,
     "metadata": {},
     "output_type": "execute_result"
    },
    {
     "data": {
      "image/png": "[encoded data removed]",
      "text/plain": [
       "<Figure size 640x480 with 1 Axes>"
      ]
     },
     "metadata": {},
     "output_type": "display_data"
    }
   ],
   "source": [
    "# create horizontal bar graph for 'region_department'\n",
    "region_department_bar = region_department.plot.barh(color = ['rosybrown','lightcoral','indianred','brown'], stacked = True, title = 'Customer Department Preferences by Region', xlabel = 'Region', ylabel = 'Frequency')\n",
    "plt.legend(loc='center left', bbox_to_anchor=(1, 0.5))"
   ]
  },
  {
   "cell_type": "code",
   "execution_count": 115,
   "id": "8a1dd421",
   "metadata": {},
   "outputs": [],
   "source": [
    "# export 'region'_department_bar' as png file\n",
    "region_department_bar.figure.savefig(os.path.join(path, '04 Analysis','Visualizations', 'customer_region_department_bar.png'))"
   ]
  },
  {
   "cell_type": "code",
   "execution_count": 116,
   "id": "cc0beca5",
   "metadata": {},
   "outputs": [],
   "source": [
    "# group data by 'department' and 'region_flag'\n",
    "age_department = df_merge.groupby(['department','age_group']).size().unstack()"
   ]
  },
  {
   "cell_type": "code",
   "execution_count": 117,
   "id": "d8a8def1",
   "metadata": {},
   "outputs": [
    {
     "data": {
      "text/html": [
       "<div>\n",
       "<style scoped>\n",
       "    .dataframe tbody tr th:only-of-type {\n",
       "        vertical-align: middle;\n",
       "    }\n",
       "\n",
       "    .dataframe tbody tr th {\n",
       "        vertical-align: top;\n",
       "    }\n",
       "\n",
       "    .dataframe thead th {\n",
       "        text-align: right;\n",
       "    }\n",
       "</style>\n",
       "<table border=\"1\" class=\"dataframe\">\n",
       "  <thead>\n",
       "    <tr style=\"text-align: right;\">\n",
       "      <th>age_group</th>\n",
       "      <th>18 to 33 years</th>\n",
       "      <th>34 to 49 years</th>\n",
       "      <th>50 to 65 years</th>\n",
       "      <th>66 to 81 years</th>\n",
       "    </tr>\n",
       "    <tr>\n",
       "      <th>department</th>\n",
       "      <th></th>\n",
       "      <th></th>\n",
       "      <th></th>\n",
       "      <th></th>\n",
       "    </tr>\n",
       "  </thead>\n",
       "  <tbody>\n",
       "    <tr>\n",
       "      <th>alcohol</th>\n",
       "      <td>40549</td>\n",
       "      <td>38313</td>\n",
       "      <td>37886</td>\n",
       "      <td>36948</td>\n",
       "    </tr>\n",
       "    <tr>\n",
       "      <th>babies</th>\n",
       "      <td>104929</td>\n",
       "      <td>110692</td>\n",
       "      <td>104955</td>\n",
       "      <td>103226</td>\n",
       "    </tr>\n",
       "    <tr>\n",
       "      <th>bakery</th>\n",
       "      <td>294485</td>\n",
       "      <td>294268</td>\n",
       "      <td>292452</td>\n",
       "      <td>291223</td>\n",
       "    </tr>\n",
       "    <tr>\n",
       "      <th>beverages</th>\n",
       "      <td>666365</td>\n",
       "      <td>672960</td>\n",
       "      <td>673529</td>\n",
       "      <td>675269</td>\n",
       "    </tr>\n",
       "    <tr>\n",
       "      <th>breakfast</th>\n",
       "      <td>178114</td>\n",
       "      <td>176308</td>\n",
       "      <td>175042</td>\n",
       "      <td>173569</td>\n",
       "    </tr>\n",
       "    <tr>\n",
       "      <th>bulk</th>\n",
       "      <td>8738</td>\n",
       "      <td>8845</td>\n",
       "      <td>8381</td>\n",
       "      <td>8609</td>\n",
       "    </tr>\n",
       "    <tr>\n",
       "      <th>canned goods</th>\n",
       "      <td>269302</td>\n",
       "      <td>267420</td>\n",
       "      <td>265315</td>\n",
       "      <td>266021</td>\n",
       "    </tr>\n",
       "    <tr>\n",
       "      <th>dairy eggs</th>\n",
       "      <td>1361505</td>\n",
       "      <td>1363571</td>\n",
       "      <td>1327882</td>\n",
       "      <td>1345789</td>\n",
       "    </tr>\n",
       "    <tr>\n",
       "      <th>deli</th>\n",
       "      <td>262956</td>\n",
       "      <td>264999</td>\n",
       "      <td>261153</td>\n",
       "      <td>262141</td>\n",
       "    </tr>\n",
       "    <tr>\n",
       "      <th>dry goods pasta</th>\n",
       "      <td>218746</td>\n",
       "      <td>215646</td>\n",
       "      <td>215823</td>\n",
       "      <td>216412</td>\n",
       "    </tr>\n",
       "    <tr>\n",
       "      <th>frozen</th>\n",
       "      <td>556893</td>\n",
       "      <td>559765</td>\n",
       "      <td>557768</td>\n",
       "      <td>560317</td>\n",
       "    </tr>\n",
       "    <tr>\n",
       "      <th>household</th>\n",
       "      <td>183121</td>\n",
       "      <td>186343</td>\n",
       "      <td>183164</td>\n",
       "      <td>186038</td>\n",
       "    </tr>\n",
       "    <tr>\n",
       "      <th>international</th>\n",
       "      <td>68172</td>\n",
       "      <td>68098</td>\n",
       "      <td>66368</td>\n",
       "      <td>66615</td>\n",
       "    </tr>\n",
       "    <tr>\n",
       "      <th>meat seafood</th>\n",
       "      <td>176779</td>\n",
       "      <td>177342</td>\n",
       "      <td>175548</td>\n",
       "      <td>179258</td>\n",
       "    </tr>\n",
       "    <tr>\n",
       "      <th>missing</th>\n",
       "      <td>17779</td>\n",
       "      <td>17438</td>\n",
       "      <td>16908</td>\n",
       "      <td>17020</td>\n",
       "    </tr>\n",
       "    <tr>\n",
       "      <th>other</th>\n",
       "      <td>9331</td>\n",
       "      <td>8968</td>\n",
       "      <td>9194</td>\n",
       "      <td>8798</td>\n",
       "    </tr>\n",
       "    <tr>\n",
       "      <th>pantry</th>\n",
       "      <td>469667</td>\n",
       "      <td>470569</td>\n",
       "      <td>466717</td>\n",
       "      <td>468416</td>\n",
       "    </tr>\n",
       "    <tr>\n",
       "      <th>personal care</th>\n",
       "      <td>111507</td>\n",
       "      <td>112955</td>\n",
       "      <td>112509</td>\n",
       "      <td>110601</td>\n",
       "    </tr>\n",
       "    <tr>\n",
       "      <th>pets</th>\n",
       "      <td>25175</td>\n",
       "      <td>23543</td>\n",
       "      <td>24121</td>\n",
       "      <td>24877</td>\n",
       "    </tr>\n",
       "    <tr>\n",
       "      <th>produce</th>\n",
       "      <td>2369785</td>\n",
       "      <td>2391817</td>\n",
       "      <td>2349375</td>\n",
       "      <td>2368314</td>\n",
       "    </tr>\n",
       "    <tr>\n",
       "      <th>snacks</th>\n",
       "      <td>726414</td>\n",
       "      <td>723257</td>\n",
       "      <td>719239</td>\n",
       "      <td>718640</td>\n",
       "    </tr>\n",
       "  </tbody>\n",
       "</table>\n",
       "</div>"
      ],
      "text/plain": [
       "age_group        18 to 33 years  34 to 49 years  50 to 65 years  \\\n",
       "department                                                        \n",
       "alcohol                   40549           38313           37886   \n",
       "babies                   104929          110692          104955   \n",
       "bakery                   294485          294268          292452   \n",
       "beverages                666365          672960          673529   \n",
       "breakfast                178114          176308          175042   \n",
       "bulk                       8738            8845            8381   \n",
       "canned goods             269302          267420          265315   \n",
       "dairy eggs              1361505         1363571         1327882   \n",
       "deli                     262956          264999          261153   \n",
       "dry goods pasta          218746          215646          215823   \n",
       "frozen                   556893          559765          557768   \n",
       "household                183121          186343          183164   \n",
       "international             68172           68098           66368   \n",
       "meat seafood             176779          177342          175548   \n",
       "missing                   17779           17438           16908   \n",
       "other                      9331            8968            9194   \n",
       "pantry                   469667          470569          466717   \n",
       "personal care            111507          112955          112509   \n",
       "pets                      25175           23543           24121   \n",
       "produce                 2369785         2391817         2349375   \n",
       "snacks                   726414          723257          719239   \n",
       "\n",
       "age_group        66 to 81 years  \n",
       "department                       \n",
       "alcohol                   36948  \n",
       "babies                   103226  \n",
       "bakery                   291223  \n",
       "beverages                675269  \n",
       "breakfast                173569  \n",
       "bulk                       8609  \n",
       "canned goods             266021  \n",
       "dairy eggs              1345789  \n",
       "deli                     262141  \n",
       "dry goods pasta          216412  \n",
       "frozen                   560317  \n",
       "household                186038  \n",
       "international             66615  \n",
       "meat seafood             179258  \n",
       "missing                   17020  \n",
       "other                      8798  \n",
       "pantry                   468416  \n",
       "personal care            110601  \n",
       "pets                      24877  \n",
       "produce                 2368314  \n",
       "snacks                   718640  "
      ]
     },
     "execution_count": 117,
     "metadata": {},
     "output_type": "execute_result"
    }
   ],
   "source": [
    "# check new dataframe\n",
    "age_department"
   ]
  },
  {
   "cell_type": "code",
   "execution_count": 118,
   "id": "f5d5faf5",
   "metadata": {},
   "outputs": [
    {
     "data": {
      "text/plain": [
       "<matplotlib.legend.Legend at 0x271f9baf250>"
      ]
     },
     "execution_count": 118,
     "metadata": {},
     "output_type": "execute_result"
    },
    {
     "data": {
      "image/png": "[encoded data removed]",
      "text/plain": [
       "<Figure size 640x480 with 1 Axes>"
      ]
     },
     "metadata": {},
     "output_type": "display_data"
    }
   ],
   "source": [
    "# create horizontal bar graph for 'age_department'\n",
    "age_department_bar = age_department.plot.barh(color = [ 'thistle','plum','violet','purple'], stacked = True, title = 'Customer Department Preferences by Age', xlabel = 'Age Group', ylabel = 'Frequency')\n",
    "plt.legend(loc='center left', bbox_to_anchor=(1, 0.5))"
   ]
  },
  {
   "cell_type": "code",
   "execution_count": 119,
   "id": "47f9fb5e",
   "metadata": {},
   "outputs": [],
   "source": [
    "# export 'age_department_bar' as png file\n",
    "age_department_bar.figure.savefig(os.path.join(path, '04 Analysis','Visualizations', 'customer_age_department_bar.png'))"
   ]
  },
  {
   "cell_type": "code",
   "execution_count": 120,
   "id": "1a80946c",
   "metadata": {},
   "outputs": [],
   "source": [
    "# group data by 'department' and 'region_flag'\n",
    "income_department = df_merge.groupby(['department','income_level']).size().unstack()"
   ]
  },
  {
   "cell_type": "code",
   "execution_count": 121,
   "id": "992456ba",
   "metadata": {},
   "outputs": [
    {
     "data": {
      "text/html": [
       "<div>\n",
       "<style scoped>\n",
       "    .dataframe tbody tr th:only-of-type {\n",
       "        vertical-align: middle;\n",
       "    }\n",
       "\n",
       "    .dataframe tbody tr th {\n",
       "        vertical-align: top;\n",
       "    }\n",
       "\n",
       "    .dataframe thead th {\n",
       "        text-align: right;\n",
       "    }\n",
       "</style>\n",
       "<table border=\"1\" class=\"dataframe\">\n",
       "  <thead>\n",
       "    <tr style=\"text-align: right;\">\n",
       "      <th>income_level</th>\n",
       "      <th>Average income</th>\n",
       "      <th>High income</th>\n",
       "      <th>Low income</th>\n",
       "    </tr>\n",
       "    <tr>\n",
       "      <th>department</th>\n",
       "      <th></th>\n",
       "      <th></th>\n",
       "      <th></th>\n",
       "    </tr>\n",
       "  </thead>\n",
       "  <tbody>\n",
       "    <tr>\n",
       "      <th>alcohol</th>\n",
       "      <td>70954</td>\n",
       "      <td>42993</td>\n",
       "      <td>39749</td>\n",
       "    </tr>\n",
       "    <tr>\n",
       "      <th>babies</th>\n",
       "      <td>228246</td>\n",
       "      <td>109102</td>\n",
       "      <td>86454</td>\n",
       "    </tr>\n",
       "    <tr>\n",
       "      <th>bakery</th>\n",
       "      <td>591935</td>\n",
       "      <td>303286</td>\n",
       "      <td>277207</td>\n",
       "    </tr>\n",
       "    <tr>\n",
       "      <th>beverages</th>\n",
       "      <td>1265420</td>\n",
       "      <td>646117</td>\n",
       "      <td>776586</td>\n",
       "    </tr>\n",
       "    <tr>\n",
       "      <th>breakfast</th>\n",
       "      <td>335825</td>\n",
       "      <td>170643</td>\n",
       "      <td>196565</td>\n",
       "    </tr>\n",
       "    <tr>\n",
       "      <th>bulk</th>\n",
       "      <td>17082</td>\n",
       "      <td>7803</td>\n",
       "      <td>9688</td>\n",
       "    </tr>\n",
       "    <tr>\n",
       "      <th>canned goods</th>\n",
       "      <td>552282</td>\n",
       "      <td>280072</td>\n",
       "      <td>235704</td>\n",
       "    </tr>\n",
       "    <tr>\n",
       "      <th>dairy eggs</th>\n",
       "      <td>2747208</td>\n",
       "      <td>1371136</td>\n",
       "      <td>1280403</td>\n",
       "    </tr>\n",
       "    <tr>\n",
       "      <th>deli</th>\n",
       "      <td>528477</td>\n",
       "      <td>262965</td>\n",
       "      <td>259807</td>\n",
       "    </tr>\n",
       "    <tr>\n",
       "      <th>dry goods pasta</th>\n",
       "      <td>451903</td>\n",
       "      <td>224367</td>\n",
       "      <td>190357</td>\n",
       "    </tr>\n",
       "    <tr>\n",
       "      <th>frozen</th>\n",
       "      <td>1125750</td>\n",
       "      <td>569162</td>\n",
       "      <td>539831</td>\n",
       "    </tr>\n",
       "    <tr>\n",
       "      <th>household</th>\n",
       "      <td>357621</td>\n",
       "      <td>186485</td>\n",
       "      <td>194560</td>\n",
       "    </tr>\n",
       "    <tr>\n",
       "      <th>international</th>\n",
       "      <td>139503</td>\n",
       "      <td>68819</td>\n",
       "      <td>60931</td>\n",
       "    </tr>\n",
       "    <tr>\n",
       "      <th>meat seafood</th>\n",
       "      <td>383158</td>\n",
       "      <td>192334</td>\n",
       "      <td>133435</td>\n",
       "    </tr>\n",
       "    <tr>\n",
       "      <th>missing</th>\n",
       "      <td>34626</td>\n",
       "      <td>17448</td>\n",
       "      <td>17071</td>\n",
       "    </tr>\n",
       "    <tr>\n",
       "      <th>other</th>\n",
       "      <td>18067</td>\n",
       "      <td>9157</td>\n",
       "      <td>9067</td>\n",
       "    </tr>\n",
       "    <tr>\n",
       "      <th>pantry</th>\n",
       "      <td>954926</td>\n",
       "      <td>480626</td>\n",
       "      <td>439817</td>\n",
       "    </tr>\n",
       "    <tr>\n",
       "      <th>personal care</th>\n",
       "      <td>221494</td>\n",
       "      <td>111895</td>\n",
       "      <td>114183</td>\n",
       "    </tr>\n",
       "    <tr>\n",
       "      <th>pets</th>\n",
       "      <td>48685</td>\n",
       "      <td>26131</td>\n",
       "      <td>22900</td>\n",
       "    </tr>\n",
       "    <tr>\n",
       "      <th>produce</th>\n",
       "      <td>4872187</td>\n",
       "      <td>2393167</td>\n",
       "      <td>2213937</td>\n",
       "    </tr>\n",
       "    <tr>\n",
       "      <th>snacks</th>\n",
       "      <td>1256578</td>\n",
       "      <td>627580</td>\n",
       "      <td>1003392</td>\n",
       "    </tr>\n",
       "  </tbody>\n",
       "</table>\n",
       "</div>"
      ],
      "text/plain": [
       "income_level     Average income  High income  Low income\n",
       "department                                              \n",
       "alcohol                   70954        42993       39749\n",
       "babies                   228246       109102       86454\n",
       "bakery                   591935       303286      277207\n",
       "beverages               1265420       646117      776586\n",
       "breakfast                335825       170643      196565\n",
       "bulk                      17082         7803        9688\n",
       "canned goods             552282       280072      235704\n",
       "dairy eggs              2747208      1371136     1280403\n",
       "deli                     528477       262965      259807\n",
       "dry goods pasta          451903       224367      190357\n",
       "frozen                  1125750       569162      539831\n",
       "household                357621       186485      194560\n",
       "international            139503        68819       60931\n",
       "meat seafood             383158       192334      133435\n",
       "missing                   34626        17448       17071\n",
       "other                     18067         9157        9067\n",
       "pantry                   954926       480626      439817\n",
       "personal care            221494       111895      114183\n",
       "pets                      48685        26131       22900\n",
       "produce                 4872187      2393167     2213937\n",
       "snacks                  1256578       627580     1003392"
      ]
     },
     "execution_count": 121,
     "metadata": {},
     "output_type": "execute_result"
    }
   ],
   "source": [
    "# check new dataframe\n",
    "income_department"
   ]
  },
  {
   "cell_type": "code",
   "execution_count": 122,
   "id": "351545b4",
   "metadata": {},
   "outputs": [
    {
     "data": {
      "text/plain": [
       "<matplotlib.legend.Legend at 0x271f95cb810>"
      ]
     },
     "execution_count": 122,
     "metadata": {},
     "output_type": "execute_result"
    },
    {
     "data": {
      "image/png": "[encoded data removed]",
      "text/plain": [
       "<Figure size 640x480 with 1 Axes>"
      ]
     },
     "metadata": {},
     "output_type": "display_data"
    }
   ],
   "source": [
    "# create horizontal bar graph for 'income_department'\n",
    "income_department_bar = income_department.plot.barh(color = ['darkseagreen','palegreen','lightgreen'], stacked = True, title = 'Customer Department Preferences by Income Level', xlabel = 'Income Level', ylabel = 'Frequency')\n",
    "plt.legend(loc='center left', bbox_to_anchor=(1, 0.5))"
   ]
  },
  {
   "cell_type": "code",
   "execution_count": 123,
   "id": "45748f1c",
   "metadata": {},
   "outputs": [],
   "source": [
    "# export 'income_department_bar' as png file\n",
    "income_department_bar.figure.savefig(os.path.join(path, '04 Analysis','Visualizations', 'customer_income_department_bar.png'))"
   ]
  },
  {
   "cell_type": "code",
   "execution_count": 124,
   "id": "939a855c",
   "metadata": {},
   "outputs": [],
   "source": [
    "# group data by 'department' and 'region_flag'\n",
    "profile_department = df_merge.groupby(['department','customer_profile_1']).size().unstack()"
   ]
  },
  {
   "cell_type": "code",
   "execution_count": 125,
   "id": "2758302a",
   "metadata": {},
   "outputs": [
    {
     "data": {
      "text/html": [
       "<div>\n",
       "<style scoped>\n",
       "    .dataframe tbody tr th:only-of-type {\n",
       "        vertical-align: middle;\n",
       "    }\n",
       "\n",
       "    .dataframe tbody tr th {\n",
       "        vertical-align: top;\n",
       "    }\n",
       "\n",
       "    .dataframe thead th {\n",
       "        text-align: right;\n",
       "    }\n",
       "</style>\n",
       "<table border=\"1\" class=\"dataframe\">\n",
       "  <thead>\n",
       "    <tr style=\"text-align: right;\">\n",
       "      <th>customer_profile_1</th>\n",
       "      <th>Married adult</th>\n",
       "      <th>Married old adult</th>\n",
       "      <th>Married young adult</th>\n",
       "      <th>Single adult</th>\n",
       "      <th>Single old adult</th>\n",
       "      <th>Single young adult w/ dependants</th>\n",
       "      <th>Single young adult w/o dependants</th>\n",
       "    </tr>\n",
       "    <tr>\n",
       "      <th>department</th>\n",
       "      <th></th>\n",
       "      <th></th>\n",
       "      <th></th>\n",
       "      <th></th>\n",
       "      <th></th>\n",
       "      <th></th>\n",
       "      <th></th>\n",
       "    </tr>\n",
       "  </thead>\n",
       "  <tbody>\n",
       "    <tr>\n",
       "      <th>alcohol</th>\n",
       "      <td>56040</td>\n",
       "      <td>27689</td>\n",
       "      <td>21953</td>\n",
       "      <td>20159</td>\n",
       "      <td>9259</td>\n",
       "      <td>8896</td>\n",
       "      <td>9700</td>\n",
       "    </tr>\n",
       "    <tr>\n",
       "      <th>babies</th>\n",
       "      <td>161541</td>\n",
       "      <td>78248</td>\n",
       "      <td>57373</td>\n",
       "      <td>54106</td>\n",
       "      <td>24978</td>\n",
       "      <td>20146</td>\n",
       "      <td>27410</td>\n",
       "    </tr>\n",
       "    <tr>\n",
       "      <th>bakery</th>\n",
       "      <td>438079</td>\n",
       "      <td>219719</td>\n",
       "      <td>164083</td>\n",
       "      <td>148641</td>\n",
       "      <td>71504</td>\n",
       "      <td>56142</td>\n",
       "      <td>74260</td>\n",
       "    </tr>\n",
       "    <tr>\n",
       "      <th>beverages</th>\n",
       "      <td>1005271</td>\n",
       "      <td>509272</td>\n",
       "      <td>374509</td>\n",
       "      <td>341218</td>\n",
       "      <td>165997</td>\n",
       "      <td>124629</td>\n",
       "      <td>167227</td>\n",
       "    </tr>\n",
       "    <tr>\n",
       "      <th>breakfast</th>\n",
       "      <td>262250</td>\n",
       "      <td>132055</td>\n",
       "      <td>99420</td>\n",
       "      <td>89100</td>\n",
       "      <td>41514</td>\n",
       "      <td>34731</td>\n",
       "      <td>43963</td>\n",
       "    </tr>\n",
       "    <tr>\n",
       "      <th>bulk</th>\n",
       "      <td>13065</td>\n",
       "      <td>6600</td>\n",
       "      <td>4956</td>\n",
       "      <td>4161</td>\n",
       "      <td>2009</td>\n",
       "      <td>1674</td>\n",
       "      <td>2108</td>\n",
       "    </tr>\n",
       "    <tr>\n",
       "      <th>canned goods</th>\n",
       "      <td>398926</td>\n",
       "      <td>201703</td>\n",
       "      <td>151401</td>\n",
       "      <td>133809</td>\n",
       "      <td>64318</td>\n",
       "      <td>51190</td>\n",
       "      <td>66711</td>\n",
       "    </tr>\n",
       "    <tr>\n",
       "      <th>dairy eggs</th>\n",
       "      <td>2012911</td>\n",
       "      <td>1012878</td>\n",
       "      <td>762809</td>\n",
       "      <td>678542</td>\n",
       "      <td>332911</td>\n",
       "      <td>260787</td>\n",
       "      <td>337909</td>\n",
       "    </tr>\n",
       "    <tr>\n",
       "      <th>deli</th>\n",
       "      <td>392028</td>\n",
       "      <td>197392</td>\n",
       "      <td>146269</td>\n",
       "      <td>134124</td>\n",
       "      <td>64749</td>\n",
       "      <td>50415</td>\n",
       "      <td>66272</td>\n",
       "    </tr>\n",
       "    <tr>\n",
       "      <th>dry goods pasta</th>\n",
       "      <td>324307</td>\n",
       "      <td>163141</td>\n",
       "      <td>122215</td>\n",
       "      <td>107162</td>\n",
       "      <td>53271</td>\n",
       "      <td>41702</td>\n",
       "      <td>54829</td>\n",
       "    </tr>\n",
       "    <tr>\n",
       "      <th>frozen</th>\n",
       "      <td>837499</td>\n",
       "      <td>420378</td>\n",
       "      <td>311173</td>\n",
       "      <td>280034</td>\n",
       "      <td>139939</td>\n",
       "      <td>108533</td>\n",
       "      <td>137187</td>\n",
       "    </tr>\n",
       "    <tr>\n",
       "      <th>household</th>\n",
       "      <td>279511</td>\n",
       "      <td>141192</td>\n",
       "      <td>101964</td>\n",
       "      <td>89996</td>\n",
       "      <td>44846</td>\n",
       "      <td>35226</td>\n",
       "      <td>45931</td>\n",
       "    </tr>\n",
       "    <tr>\n",
       "      <th>international</th>\n",
       "      <td>100557</td>\n",
       "      <td>50102</td>\n",
       "      <td>37807</td>\n",
       "      <td>33909</td>\n",
       "      <td>16513</td>\n",
       "      <td>13074</td>\n",
       "      <td>17291</td>\n",
       "    </tr>\n",
       "    <tr>\n",
       "      <th>meat seafood</th>\n",
       "      <td>265535</td>\n",
       "      <td>135454</td>\n",
       "      <td>99873</td>\n",
       "      <td>87355</td>\n",
       "      <td>43804</td>\n",
       "      <td>33981</td>\n",
       "      <td>42925</td>\n",
       "    </tr>\n",
       "    <tr>\n",
       "      <th>missing</th>\n",
       "      <td>25862</td>\n",
       "      <td>12993</td>\n",
       "      <td>9631</td>\n",
       "      <td>8484</td>\n",
       "      <td>4027</td>\n",
       "      <td>3571</td>\n",
       "      <td>4577</td>\n",
       "    </tr>\n",
       "    <tr>\n",
       "      <th>other</th>\n",
       "      <td>13360</td>\n",
       "      <td>6672</td>\n",
       "      <td>5173</td>\n",
       "      <td>4802</td>\n",
       "      <td>2126</td>\n",
       "      <td>1911</td>\n",
       "      <td>2247</td>\n",
       "    </tr>\n",
       "    <tr>\n",
       "      <th>pantry</th>\n",
       "      <td>703308</td>\n",
       "      <td>353240</td>\n",
       "      <td>261792</td>\n",
       "      <td>233978</td>\n",
       "      <td>115176</td>\n",
       "      <td>90272</td>\n",
       "      <td>117603</td>\n",
       "    </tr>\n",
       "    <tr>\n",
       "      <th>personal care</th>\n",
       "      <td>169880</td>\n",
       "      <td>82457</td>\n",
       "      <td>61917</td>\n",
       "      <td>55584</td>\n",
       "      <td>28144</td>\n",
       "      <td>21312</td>\n",
       "      <td>28278</td>\n",
       "    </tr>\n",
       "    <tr>\n",
       "      <th>pets</th>\n",
       "      <td>36088</td>\n",
       "      <td>18240</td>\n",
       "      <td>13185</td>\n",
       "      <td>11576</td>\n",
       "      <td>6637</td>\n",
       "      <td>5620</td>\n",
       "      <td>6370</td>\n",
       "    </tr>\n",
       "    <tr>\n",
       "      <th>produce</th>\n",
       "      <td>3548367</td>\n",
       "      <td>1779857</td>\n",
       "      <td>1325994</td>\n",
       "      <td>1192825</td>\n",
       "      <td>588457</td>\n",
       "      <td>449628</td>\n",
       "      <td>594163</td>\n",
       "    </tr>\n",
       "    <tr>\n",
       "      <th>snacks</th>\n",
       "      <td>1079786</td>\n",
       "      <td>540904</td>\n",
       "      <td>408899</td>\n",
       "      <td>362710</td>\n",
       "      <td>177736</td>\n",
       "      <td>137163</td>\n",
       "      <td>180352</td>\n",
       "    </tr>\n",
       "  </tbody>\n",
       "</table>\n",
       "</div>"
      ],
      "text/plain": [
       "customer_profile_1  Married adult  Married old adult  Married young adult  \\\n",
       "department                                                                  \n",
       "alcohol                     56040              27689                21953   \n",
       "babies                     161541              78248                57373   \n",
       "bakery                     438079             219719               164083   \n",
       "beverages                 1005271             509272               374509   \n",
       "breakfast                  262250             132055                99420   \n",
       "bulk                        13065               6600                 4956   \n",
       "canned goods               398926             201703               151401   \n",
       "dairy eggs                2012911            1012878               762809   \n",
       "deli                       392028             197392               146269   \n",
       "dry goods pasta            324307             163141               122215   \n",
       "frozen                     837499             420378               311173   \n",
       "household                  279511             141192               101964   \n",
       "international              100557              50102                37807   \n",
       "meat seafood               265535             135454                99873   \n",
       "missing                     25862              12993                 9631   \n",
       "other                       13360               6672                 5173   \n",
       "pantry                     703308             353240               261792   \n",
       "personal care              169880              82457                61917   \n",
       "pets                        36088              18240                13185   \n",
       "produce                   3548367            1779857              1325994   \n",
       "snacks                    1079786             540904               408899   \n",
       "\n",
       "customer_profile_1  Single adult  Single old adult  \\\n",
       "department                                           \n",
       "alcohol                    20159              9259   \n",
       "babies                     54106             24978   \n",
       "bakery                    148641             71504   \n",
       "beverages                 341218            165997   \n",
       "breakfast                  89100             41514   \n",
       "bulk                        4161              2009   \n",
       "canned goods              133809             64318   \n",
       "dairy eggs                678542            332911   \n",
       "deli                      134124             64749   \n",
       "dry goods pasta           107162             53271   \n",
       "frozen                    280034            139939   \n",
       "household                  89996             44846   \n",
       "international              33909             16513   \n",
       "meat seafood               87355             43804   \n",
       "missing                     8484              4027   \n",
       "other                       4802              2126   \n",
       "pantry                    233978            115176   \n",
       "personal care              55584             28144   \n",
       "pets                       11576              6637   \n",
       "produce                  1192825            588457   \n",
       "snacks                    362710            177736   \n",
       "\n",
       "customer_profile_1  Single young adult w/ dependants  \\\n",
       "department                                             \n",
       "alcohol                                         8896   \n",
       "babies                                         20146   \n",
       "bakery                                         56142   \n",
       "beverages                                     124629   \n",
       "breakfast                                      34731   \n",
       "bulk                                            1674   \n",
       "canned goods                                   51190   \n",
       "dairy eggs                                    260787   \n",
       "deli                                           50415   \n",
       "dry goods pasta                                41702   \n",
       "frozen                                        108533   \n",
       "household                                      35226   \n",
       "international                                  13074   \n",
       "meat seafood                                   33981   \n",
       "missing                                         3571   \n",
       "other                                           1911   \n",
       "pantry                                         90272   \n",
       "personal care                                  21312   \n",
       "pets                                            5620   \n",
       "produce                                       449628   \n",
       "snacks                                        137163   \n",
       "\n",
       "customer_profile_1  Single young adult w/o dependants  \n",
       "department                                             \n",
       "alcohol                                          9700  \n",
       "babies                                          27410  \n",
       "bakery                                          74260  \n",
       "beverages                                      167227  \n",
       "breakfast                                       43963  \n",
       "bulk                                             2108  \n",
       "canned goods                                    66711  \n",
       "dairy eggs                                     337909  \n",
       "deli                                            66272  \n",
       "dry goods pasta                                 54829  \n",
       "frozen                                         137187  \n",
       "household                                       45931  \n",
       "international                                   17291  \n",
       "meat seafood                                    42925  \n",
       "missing                                          4577  \n",
       "other                                            2247  \n",
       "pantry                                         117603  \n",
       "personal care                                   28278  \n",
       "pets                                             6370  \n",
       "produce                                        594163  \n",
       "snacks                                         180352  "
      ]
     },
     "execution_count": 125,
     "metadata": {},
     "output_type": "execute_result"
    }
   ],
   "source": [
    "# check new dataframe\n",
    "profile_department"
   ]
  },
  {
   "cell_type": "code",
   "execution_count": 126,
   "id": "66ac73e9",
   "metadata": {},
   "outputs": [
    {
     "data": {
      "text/plain": [
       "<matplotlib.legend.Legend at 0x271fa1f4cd0>"
      ]
     },
     "execution_count": 126,
     "metadata": {},
     "output_type": "execute_result"
    },
    {
     "data": {
      "image/png": "[encoded data removed]",
      "text/plain": [
       "<Figure size 640x480 with 1 Axes>"
      ]
     },
     "metadata": {},
     "output_type": "display_data"
    }
   ],
   "source": [
    "# create horizontal bar graph for 'profile_department'\n",
    "profile_department_bar = profile_department.plot.barh(color = ['darkturquoise','cadetblue','lightblue','deepskyblue','skyblue','steelblue','dodgerblue'], stacked = True, title = 'Customer Department Preferences by Family Profile', xlabel = 'Family Profile', ylabel = 'Frequency')\n",
    "plt.legend(loc='center left', bbox_to_anchor=(1, 0.5))"
   ]
  },
  {
   "cell_type": "code",
   "execution_count": 127,
   "id": "a953c57d",
   "metadata": {},
   "outputs": [],
   "source": [
    "# export 'profile_department_bar' as png file\n",
    "profile_department_bar.figure.savefig(os.path.join(path, '04 Analysis','Visualizations', 'customer_profile_department_bar.png'))"
   ]
  },
  {
   "cell_type": "code",
   "execution_count": 128,
   "id": "509280fe",
   "metadata": {},
   "outputs": [],
   "source": [
    "# group data by 'income_level' and 'customer_profile_1'\n",
    "profile_income = df_merge.groupby(['income_level','customer_profile_1']).size().unstack()"
   ]
  },
  {
   "cell_type": "code",
   "execution_count": 129,
   "id": "8d26e900",
   "metadata": {},
   "outputs": [
    {
     "data": {
      "text/plain": [
       "<matplotlib.legend.Legend at 0x271fa21f450>"
      ]
     },
     "execution_count": 129,
     "metadata": {},
     "output_type": "execute_result"
    },
    {
     "data": {
      "image/png": "[encoded data removed]",
      "text/plain": [
       "<Figure size 640x480 with 1 Axes>"
      ]
     },
     "metadata": {},
     "output_type": "display_data"
    }
   ],
   "source": [
    "# create bar chart for 'profile_income'\n",
    "profile_income_bar = profile_income.plot.bar(color = ['darkturquoise','cadetblue','lightblue','deepskyblue','skyblue','steelblue','dodgerblue'], stacked = False, title = 'Customer Family Profile by Income Level', xlabel = 'Income Level', ylabel = 'Frequency')\n",
    "plt.legend(loc='center left', bbox_to_anchor=(1, 0.5))"
   ]
  },
  {
   "cell_type": "code",
   "execution_count": 130,
   "id": "7c6d8acc",
   "metadata": {},
   "outputs": [],
   "source": [
    "# export 'profile_department_bar' as png file\n",
    "profile_income_bar.figure.savefig(os.path.join(path, '04 Analysis','Visualizations', 'customer_profile_income_bar.png'))"
   ]
  },
  {
   "cell_type": "code",
   "execution_count": 131,
   "id": "ed6a7b20",
   "metadata": {},
   "outputs": [],
   "source": [
    "# export 'df_merge' as pickle file\n",
    "df_merge.to_pickle(os.path.join(path,'02 Data','Prepared Data','instacart_data_final.pkl'))"
   ]
  }
 ],
 "metadata": {
  "kernelspec": {
   "display_name": "Python 3 (ipykernel)",
   "language": "python",
   "name": "python3"
  },
  "language_info": {
   "codemirror_mode": {
    "name": "ipython",
    "version": 3
   },
   "file_extension": ".py",
   "mimetype": "text/x-python",
   "name": "python",
   "nbconvert_exporter": "python",
   "pygments_lexer": "ipython3",
   "version": "3.11.5"
  }
 },
 "nbformat": 4,
 "nbformat_minor": 5
}
